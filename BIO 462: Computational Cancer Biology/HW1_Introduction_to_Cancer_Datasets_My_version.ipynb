{
  "nbformat": 4,
  "nbformat_minor": 0,
  "metadata": {
    "colab": {
      "provenance": []
    },
    "kernelspec": {
      "name": "python3",
      "display_name": "Python 3"
    }
  },
  "cells": [
    {
      "cell_type": "markdown",
      "metadata": {
        "id": "fPkHmuNmkfb1"
      },
      "source": [
        "#**Homework 1 - Pandas Dataframes**\n",
        "Welcome to the cancer data exploration for BIO 462. This is lesson #1.\n",
        "\n",
        "The purpose of this notebook and assignment is to give you practical experience with Pandas dataframes. Your first step will be to save this notebook as a copy so that you can edit it. (File->Save a copy in Drive).\n",
        "\n",
        "License: This document is open source under [CC BY-ND 4.0](https://en.wikipedia.org/wiki/Creative_Commons_license)."
      ]
    },
    {
      "cell_type": "markdown",
      "metadata": {
        "id": "_F7g2fuIgv2z"
      },
      "source": [
        "#**Completing the Assignment**\n",
        "\n",
        "This notebook is your homework #1. To complete the homework and receive credit, you need to work through all 3 sections. Within each thematic section is a mix of explanatory text cells and code cells. Some code cells have code written for you; some ask you to write code. You should work through the cells and make sure you understand the syntax and what is happening. At the end of each section are 'Practice Problems'. You should write code to answer the questions - following the directions given. Once you are ready to submit your answer, run the submission code block below every question block. If you get a question wrong, fix your code and try again. If you get stumped, ask for a hint using the hint code block below each submission code block.\n",
        "\n",
        "You should derive all answers with software code. Unless instructed otherwise, you should not take any shortcuts, like printing out a table, manually looking up an answer, and explicitly declaring the variable - answer_1 = \"KRAS\". These type of shortcuts prevent your learning to code, and will not be feasible on later homeworks where datasets are larger and homeworks are harder. Please take the time now to learn.\n",
        "\n",
        "Have fun."
      ]
    },
    {
      "cell_type": "markdown",
      "metadata": {
        "id": "T7raG37Lfq02"
      },
      "source": [
        "# **Learning Outcomes**\n",
        "#### Biological\n",
        "\n",
        "*   Locate proteogenomic cancer datasets from real tumor samples.\n",
        "\n",
        "#### Computational\n",
        "\n",
        "*   Manipulate Pandas DataFrame.\n",
        "*   Select relevant clinical cancer data."
      ]
    },
    {
      "cell_type": "markdown",
      "metadata": {
        "id": "X5x-cbv2o15q"
      },
      "source": [
        "# **Topics and Background Reading**\n",
        "The main topic for this course is cancer. It will be helpful to start the course with a solid understanding of how molecular data is used in cancer research and treatment.\n",
        "\n",
        "- The next horizon in precision oncology. [Rodriguez et al. 2021](https://doi.org/10.1016/j.cell.2021.02.055)\n",
        "\n",
        "The topics in this first homework are an introduction to the cancer dataset that we will use all semester and also an introduction to Pandas and dataframes.\n",
        "\n",
        "- The cancer dataset that we will be using is from the Clinical Proteome Tumor Analysis Consortium, or CPTAC. The dataset consists of a comprehensive molecular characterization of 10 different cancer types, and also the associated clinical information for each patient. You can read more about the dataset and the API we created to access the data [here](https://pubs.acs.org/doi/10.1021/acs.jproteome.0c00919).\n",
        "- Pandas is a software library for matrix variables for Python. It is similar to a spreadsheet, or if you've had some C/Java programming a 2D array. The matrix is typically called a dataframe and can hold any type of information you want including numbers, text, binary variables, etc. If you'd like more inforation about Pandas and dataframes, you can go [here](https://pandas.pydata.org/pandas-docs/stable/index.html).\n",
        "\n",
        "Throughout the course we will be learning more about both the CPTAC data and programming with Pandas. So let's start our first assignment."
      ]
    },
    {
      "cell_type": "markdown",
      "metadata": {
        "id": "SWczr0_dVvt3"
      },
      "source": [
        "# Part 1. Setup\n",
        "\n",
        "Google Colabs is a web service that allows you to write interactive Python (iPython) in notebooks. This web service runs on a virtual computer (virtual machine or VM) that is set up just for you. Initially, that VM only includes the most common Python libraries. So we first need to install our cptac package on the VM. This is done with a server directive, which is recognized because it starts with '!'."
      ]
    },
    {
      "cell_type": "code",
      "metadata": {
        "id": "L92mAZndkeNR",
        "colab": {
          "base_uri": "https://localhost:8080/",
          "height": 807
        },
        "outputId": "e4cd7586-ef5c-4322-89b2-c9ba6bbbc4dd"
      },
      "source": [
        "#This first cell is code required to get our VM ready.\n",
        "!pip install cptac==1.1.0\n",
        "!pip install biograder"
      ],
      "execution_count": null,
      "outputs": [
        {
          "output_type": "stream",
          "name": "stdout",
          "text": [
            "Collecting cptac==1.1.0\n",
            "  Using cached cptac-1.1.0-py3-none-any.whl (5.6 MB)\n",
            "Requirement already satisfied: numpy>=1.16.3 in /usr/local/lib/python3.10/dist-packages (from cptac==1.1.0) (1.23.5)\n",
            "Requirement already satisfied: pandas>=1.2.0 in /usr/local/lib/python3.10/dist-packages (from cptac==1.1.0) (2.1.4)\n",
            "Requirement already satisfied: requests>=2.21.0 in /usr/local/lib/python3.10/dist-packages (from cptac==1.1.0) (2.31.0)\n",
            "Requirement already satisfied: beautifulsoup4>=4.7.1 in /usr/local/lib/python3.10/dist-packages (from cptac==1.1.0) (4.11.2)\n",
            "Requirement already satisfied: scipy>=1.2.1 in /usr/local/lib/python3.10/dist-packages (from cptac==1.1.0) (1.11.4)\n",
            "Requirement already satisfied: urllib3>=1.24.2 in /usr/local/lib/python3.10/dist-packages (from cptac==1.1.0) (2.0.7)\n",
            "Requirement already satisfied: openpyxl>=2.6.0 in /usr/local/lib/python3.10/dist-packages (from cptac==1.1.0) (3.1.2)\n",
            "Requirement already satisfied: packaging>=19.2 in /usr/local/lib/python3.10/dist-packages (from cptac==1.1.0) (23.2)\n",
            "Requirement already satisfied: xlrd>=2.0.1 in /usr/local/lib/python3.10/dist-packages (from cptac==1.1.0) (2.0.1)\n",
            "Requirement already satisfied: statsmodels>=0.10.0 in /usr/local/lib/python3.10/dist-packages (from cptac==1.1.0) (0.14.1)\n",
            "Requirement already satisfied: flask>=1.1.0 in /usr/local/lib/python3.10/dist-packages (from cptac==1.1.0) (2.2.5)\n",
            "Requirement already satisfied: gtfparse>=1.2.1 in /usr/local/lib/python3.10/dist-packages (from cptac==1.1.0) (2.1.0)\n",
            "Requirement already satisfied: mygene>=3.2.2 in /usr/local/lib/python3.10/dist-packages (from cptac==1.1.0) (3.2.2)\n",
            "Requirement already satisfied: soupsieve>1.2 in /usr/local/lib/python3.10/dist-packages (from beautifulsoup4>=4.7.1->cptac==1.1.0) (2.5)\n",
            "Requirement already satisfied: Werkzeug>=2.2.2 in /usr/local/lib/python3.10/dist-packages (from flask>=1.1.0->cptac==1.1.0) (3.0.1)\n",
            "Requirement already satisfied: Jinja2>=3.0 in /usr/local/lib/python3.10/dist-packages (from flask>=1.1.0->cptac==1.1.0) (3.1.2)\n",
            "Requirement already satisfied: itsdangerous>=2.0 in /usr/local/lib/python3.10/dist-packages (from flask>=1.1.0->cptac==1.1.0) (2.1.2)\n",
            "Requirement already satisfied: click>=8.0 in /usr/local/lib/python3.10/dist-packages (from flask>=1.1.0->cptac==1.1.0) (8.1.7)\n",
            "Requirement already satisfied: polars<0.21.0,>=0.20.2 in /usr/local/lib/python3.10/dist-packages (from gtfparse>=1.2.1->cptac==1.1.0) (0.20.2)\n",
            "Requirement already satisfied: pyarrow<14.1.0,>=14.0.2 in /usr/local/lib/python3.10/dist-packages (from gtfparse>=1.2.1->cptac==1.1.0) (14.0.2)\n",
            "Requirement already satisfied: biothings-client>=0.2.6 in /usr/local/lib/python3.10/dist-packages (from mygene>=3.2.2->cptac==1.1.0) (0.3.1)\n",
            "Requirement already satisfied: et-xmlfile in /usr/local/lib/python3.10/dist-packages (from openpyxl>=2.6.0->cptac==1.1.0) (1.1.0)\n",
            "Requirement already satisfied: python-dateutil>=2.8.2 in /usr/local/lib/python3.10/dist-packages (from pandas>=1.2.0->cptac==1.1.0) (2.8.2)\n",
            "Requirement already satisfied: pytz>=2020.1 in /usr/local/lib/python3.10/dist-packages (from pandas>=1.2.0->cptac==1.1.0) (2023.3.post1)\n",
            "Requirement already satisfied: tzdata>=2022.1 in /usr/local/lib/python3.10/dist-packages (from pandas>=1.2.0->cptac==1.1.0) (2023.3)\n",
            "Requirement already satisfied: charset-normalizer<4,>=2 in /usr/local/lib/python3.10/dist-packages (from requests>=2.21.0->cptac==1.1.0) (3.3.2)\n",
            "Requirement already satisfied: idna<4,>=2.5 in /usr/local/lib/python3.10/dist-packages (from requests>=2.21.0->cptac==1.1.0) (3.6)\n",
            "Requirement already satisfied: certifi>=2017.4.17 in /usr/local/lib/python3.10/dist-packages (from requests>=2.21.0->cptac==1.1.0) (2023.11.17)\n",
            "Requirement already satisfied: patsy>=0.5.4 in /usr/local/lib/python3.10/dist-packages (from statsmodels>=0.10.0->cptac==1.1.0) (0.5.4)\n",
            "Requirement already satisfied: MarkupSafe>=2.0 in /usr/local/lib/python3.10/dist-packages (from Jinja2>=3.0->flask>=1.1.0->cptac==1.1.0) (2.1.3)\n",
            "Requirement already satisfied: six in /usr/local/lib/python3.10/dist-packages (from patsy>=0.5.4->statsmodels>=0.10.0->cptac==1.1.0) (1.16.0)\n",
            "Installing collected packages: cptac\n",
            "  Attempting uninstall: cptac\n",
            "    Found existing installation: cptac 1.5.10\n",
            "    Uninstalling cptac-1.5.10:\n",
            "      Successfully uninstalled cptac-1.5.10\n",
            "Successfully installed cptac-1.1.0\n"
          ]
        },
        {
          "output_type": "display_data",
          "data": {
            "application/vnd.colab-display-data+json": {
              "pip_warning": {
                "packages": [
                  "cptac"
                ]
              }
            }
          },
          "metadata": {}
        },
        {
          "output_type": "stream",
          "name": "stdout",
          "text": [
            "Requirement already satisfied: biograder in /usr/local/lib/python3.10/dist-packages (0.5.1)\n"
          ]
        }
      ]
    },
    {
      "cell_type": "markdown",
      "metadata": {
        "id": "An9O60FjbrJO"
      },
      "source": [
        "In order to grade the practice problems and give you credit we need to install the homework autograder package."
      ]
    },
    {
      "cell_type": "code",
      "metadata": {
        "id": "gEXgTBcocNq-",
        "colab": {
          "base_uri": "https://localhost:8080/"
        },
        "outputId": "65f2bfbc-f5bc-40d6-c73f-4e4c3a945a13"
      },
      "source": [
        "import biograder\n",
        "#The pandas dataframes homework is #1\n",
        "biograder.download(\"bio462_hw1\")\n",
        "myID = \"s15211\" #Your student id, or 'temp'\n",
        "hw = biograder.bio462_hw1(student_id = myID) #Instantiate the homework grader object."
      ],
      "execution_count": null,
      "outputs": [
        {
          "output_type": "stream",
          "name": "stdout",
          "text": []
        }
      ]
    },
    {
      "cell_type": "markdown",
      "metadata": {
        "id": "vU4h_Q7JrMH_"
      },
      "source": [
        "We now have to import the CPTAC package and get our dataframe. Then we will do some basic inspection of the dataframe, the rows and columns. Depending on your internet connection speed, this may take a minute or two. The download is about 100 MB.\n",
        "\n",
        "As you are waiting for your download, I'll explain a bit about the 'cptac' module. CPTAC is a large consortium in the US which examines cancer samples for DNA/RNA/protein measurements in combination with the patient's clinical information (learn more [here](https://proteomics.cancer.gov/programs/cptac)). All this data is processed and stored in tables (spreadsheets). In the Payne Lab we have created a Python module that makes access to these tables convenient (our publication [here](https://pubs.acs.org/doi/10.1021/acs.jproteome.0c00919)). So this is you working with real cancer data, which was used to help improve our understanding of cancer, including [endometrial](https://doi.org/10.1016/j.cell.2020.01.026) and [lung](https://doi.org/10.1016/j.cell.2020.06.013) cancer. In this tutorial, we'll use the clinical data as described in the next few sections. The module also includes data for DNA mutations, RNA and protein abundance, and lots of other stuff."
      ]
    },
    {
      "cell_type": "code",
      "metadata": {
        "id": "SK0qAgiLksjJ"
      },
      "source": [
        "import cptac"
      ],
      "execution_count": null,
      "outputs": []
    },
    {
      "cell_type": "code",
      "source": [
        "cptac.download(\"endometrial\")\n",
        "en = cptac.Endometrial()"
      ],
      "metadata": {
        "colab": {
          "base_uri": "https://localhost:8080/"
        },
        "id": "nuGTfKmfFkTK",
        "outputId": "99b8dac3-10bc-4981-b7c1-3ffa05d5b74b"
      },
      "execution_count": null,
      "outputs": [
        {
          "output_type": "stream",
          "name": "stdout",
          "text": []
        }
      ]
    },
    {
      "cell_type": "markdown",
      "metadata": {
        "id": "EDGgk6CHwM7C"
      },
      "source": [
        "Before we continue, I would like to point out that we will be using the endometrial cohort for this homework, but there are several more cancer types available in the cptac package. The following code lists all the available datasets for various cancers."
      ]
    },
    {
      "cell_type": "code",
      "metadata": {
        "id": "P_yqSvlBwOWf",
        "colab": {
          "base_uri": "https://localhost:8080/",
          "height": 457
        },
        "outputId": "07d7c4f8-0617-4977-8f78-db115242f1ad"
      },
      "source": [
        "cptac.list_datasets()"
      ],
      "execution_count": null,
      "outputs": [
        {
          "output_type": "execute_result",
          "data": {
            "text/plain": [
              "                                           Description     Data reuse status  \\\n",
              "Dataset name                                                                   \n",
              "Brca                                     breast cancer       no restrictions   \n",
              "Ccrcc         clear cell renal cell carcinoma (kidney)       no restrictions   \n",
              "Colon                                colorectal cancer       no restrictions   \n",
              "Endometrial            endometrial carcinoma (uterine)       no restrictions   \n",
              "Gbm                                       glioblastoma       no restrictions   \n",
              "Hnscc            head and neck squamous cell carcinoma       no restrictions   \n",
              "Lscc                      lung squamous cell carcinoma       no restrictions   \n",
              "Luad                               lung adenocarcinoma       no restrictions   \n",
              "Ovarian               high grade serous ovarian cancer       no restrictions   \n",
              "Pdac                  pancreatic ductal adenocarcinoma       no restrictions   \n",
              "UcecConf            endometrial confirmatory carcinoma  password access only   \n",
              "GbmConf                      glioblastoma confirmatory  password access only   \n",
              "\n",
              "                                       Publication link  \n",
              "Dataset name                                             \n",
              "Brca          https://pubmed.ncbi.nlm.nih.gov/33212010/  \n",
              "Ccrcc         https://pubmed.ncbi.nlm.nih.gov/31675502/  \n",
              "Colon         https://pubmed.ncbi.nlm.nih.gov/31031003/  \n",
              "Endometrial   https://pubmed.ncbi.nlm.nih.gov/32059776/  \n",
              "Gbm           https://pubmed.ncbi.nlm.nih.gov/33577785/  \n",
              "Hnscc         https://pubmed.ncbi.nlm.nih.gov/33417831/  \n",
              "Lscc          https://pubmed.ncbi.nlm.nih.gov/34358469/  \n",
              "Luad          https://pubmed.ncbi.nlm.nih.gov/32649874/  \n",
              "Ovarian       https://pubmed.ncbi.nlm.nih.gov/27372738/  \n",
              "Pdac          https://pubmed.ncbi.nlm.nih.gov/34534465/  \n",
              "UcecConf                                    unpublished  \n",
              "GbmConf                                     unpublished  "
            ],
            "text/html": [
              "\n",
              "  <div id=\"df-99822f30-8771-4038-9235-6fc9007a06bb\" class=\"colab-df-container\">\n",
              "    <div>\n",
              "<style scoped>\n",
              "    .dataframe tbody tr th:only-of-type {\n",
              "        vertical-align: middle;\n",
              "    }\n",
              "\n",
              "    .dataframe tbody tr th {\n",
              "        vertical-align: top;\n",
              "    }\n",
              "\n",
              "    .dataframe thead th {\n",
              "        text-align: right;\n",
              "    }\n",
              "</style>\n",
              "<table border=\"1\" class=\"dataframe\">\n",
              "  <thead>\n",
              "    <tr style=\"text-align: right;\">\n",
              "      <th></th>\n",
              "      <th>Description</th>\n",
              "      <th>Data reuse status</th>\n",
              "      <th>Publication link</th>\n",
              "    </tr>\n",
              "    <tr>\n",
              "      <th>Dataset name</th>\n",
              "      <th></th>\n",
              "      <th></th>\n",
              "      <th></th>\n",
              "    </tr>\n",
              "  </thead>\n",
              "  <tbody>\n",
              "    <tr>\n",
              "      <th>Brca</th>\n",
              "      <td>breast cancer</td>\n",
              "      <td>no restrictions</td>\n",
              "      <td>https://pubmed.ncbi.nlm.nih.gov/33212010/</td>\n",
              "    </tr>\n",
              "    <tr>\n",
              "      <th>Ccrcc</th>\n",
              "      <td>clear cell renal cell carcinoma (kidney)</td>\n",
              "      <td>no restrictions</td>\n",
              "      <td>https://pubmed.ncbi.nlm.nih.gov/31675502/</td>\n",
              "    </tr>\n",
              "    <tr>\n",
              "      <th>Colon</th>\n",
              "      <td>colorectal cancer</td>\n",
              "      <td>no restrictions</td>\n",
              "      <td>https://pubmed.ncbi.nlm.nih.gov/31031003/</td>\n",
              "    </tr>\n",
              "    <tr>\n",
              "      <th>Endometrial</th>\n",
              "      <td>endometrial carcinoma (uterine)</td>\n",
              "      <td>no restrictions</td>\n",
              "      <td>https://pubmed.ncbi.nlm.nih.gov/32059776/</td>\n",
              "    </tr>\n",
              "    <tr>\n",
              "      <th>Gbm</th>\n",
              "      <td>glioblastoma</td>\n",
              "      <td>no restrictions</td>\n",
              "      <td>https://pubmed.ncbi.nlm.nih.gov/33577785/</td>\n",
              "    </tr>\n",
              "    <tr>\n",
              "      <th>Hnscc</th>\n",
              "      <td>head and neck squamous cell carcinoma</td>\n",
              "      <td>no restrictions</td>\n",
              "      <td>https://pubmed.ncbi.nlm.nih.gov/33417831/</td>\n",
              "    </tr>\n",
              "    <tr>\n",
              "      <th>Lscc</th>\n",
              "      <td>lung squamous cell carcinoma</td>\n",
              "      <td>no restrictions</td>\n",
              "      <td>https://pubmed.ncbi.nlm.nih.gov/34358469/</td>\n",
              "    </tr>\n",
              "    <tr>\n",
              "      <th>Luad</th>\n",
              "      <td>lung adenocarcinoma</td>\n",
              "      <td>no restrictions</td>\n",
              "      <td>https://pubmed.ncbi.nlm.nih.gov/32649874/</td>\n",
              "    </tr>\n",
              "    <tr>\n",
              "      <th>Ovarian</th>\n",
              "      <td>high grade serous ovarian cancer</td>\n",
              "      <td>no restrictions</td>\n",
              "      <td>https://pubmed.ncbi.nlm.nih.gov/27372738/</td>\n",
              "    </tr>\n",
              "    <tr>\n",
              "      <th>Pdac</th>\n",
              "      <td>pancreatic ductal adenocarcinoma</td>\n",
              "      <td>no restrictions</td>\n",
              "      <td>https://pubmed.ncbi.nlm.nih.gov/34534465/</td>\n",
              "    </tr>\n",
              "    <tr>\n",
              "      <th>UcecConf</th>\n",
              "      <td>endometrial confirmatory carcinoma</td>\n",
              "      <td>password access only</td>\n",
              "      <td>unpublished</td>\n",
              "    </tr>\n",
              "    <tr>\n",
              "      <th>GbmConf</th>\n",
              "      <td>glioblastoma confirmatory</td>\n",
              "      <td>password access only</td>\n",
              "      <td>unpublished</td>\n",
              "    </tr>\n",
              "  </tbody>\n",
              "</table>\n",
              "</div>\n",
              "    <div class=\"colab-df-buttons\">\n",
              "\n",
              "  <div class=\"colab-df-container\">\n",
              "    <button class=\"colab-df-convert\" onclick=\"convertToInteractive('df-99822f30-8771-4038-9235-6fc9007a06bb')\"\n",
              "            title=\"Convert this dataframe to an interactive table.\"\n",
              "            style=\"display:none;\">\n",
              "\n",
              "  <svg xmlns=\"http://www.w3.org/2000/svg\" height=\"24px\" viewBox=\"0 -960 960 960\">\n",
              "    <path d=\"M120-120v-720h720v720H120Zm60-500h600v-160H180v160Zm220 220h160v-160H400v160Zm0 220h160v-160H400v160ZM180-400h160v-160H180v160Zm440 0h160v-160H620v160ZM180-180h160v-160H180v160Zm440 0h160v-160H620v160Z\"/>\n",
              "  </svg>\n",
              "    </button>\n",
              "\n",
              "  <style>\n",
              "    .colab-df-container {\n",
              "      display:flex;\n",
              "      gap: 12px;\n",
              "    }\n",
              "\n",
              "    .colab-df-convert {\n",
              "      background-color: #E8F0FE;\n",
              "      border: none;\n",
              "      border-radius: 50%;\n",
              "      cursor: pointer;\n",
              "      display: none;\n",
              "      fill: #1967D2;\n",
              "      height: 32px;\n",
              "      padding: 0 0 0 0;\n",
              "      width: 32px;\n",
              "    }\n",
              "\n",
              "    .colab-df-convert:hover {\n",
              "      background-color: #E2EBFA;\n",
              "      box-shadow: 0px 1px 2px rgba(60, 64, 67, 0.3), 0px 1px 3px 1px rgba(60, 64, 67, 0.15);\n",
              "      fill: #174EA6;\n",
              "    }\n",
              "\n",
              "    .colab-df-buttons div {\n",
              "      margin-bottom: 4px;\n",
              "    }\n",
              "\n",
              "    [theme=dark] .colab-df-convert {\n",
              "      background-color: #3B4455;\n",
              "      fill: #D2E3FC;\n",
              "    }\n",
              "\n",
              "    [theme=dark] .colab-df-convert:hover {\n",
              "      background-color: #434B5C;\n",
              "      box-shadow: 0px 1px 3px 1px rgba(0, 0, 0, 0.15);\n",
              "      filter: drop-shadow(0px 1px 2px rgba(0, 0, 0, 0.3));\n",
              "      fill: #FFFFFF;\n",
              "    }\n",
              "  </style>\n",
              "\n",
              "    <script>\n",
              "      const buttonEl =\n",
              "        document.querySelector('#df-99822f30-8771-4038-9235-6fc9007a06bb button.colab-df-convert');\n",
              "      buttonEl.style.display =\n",
              "        google.colab.kernel.accessAllowed ? 'block' : 'none';\n",
              "\n",
              "      async function convertToInteractive(key) {\n",
              "        const element = document.querySelector('#df-99822f30-8771-4038-9235-6fc9007a06bb');\n",
              "        const dataTable =\n",
              "          await google.colab.kernel.invokeFunction('convertToInteractive',\n",
              "                                                    [key], {});\n",
              "        if (!dataTable) return;\n",
              "\n",
              "        const docLinkHtml = 'Like what you see? Visit the ' +\n",
              "          '<a target=\"_blank\" href=https://colab.research.google.com/notebooks/data_table.ipynb>data table notebook</a>'\n",
              "          + ' to learn more about interactive tables.';\n",
              "        element.innerHTML = '';\n",
              "        dataTable['output_type'] = 'display_data';\n",
              "        await google.colab.output.renderOutput(dataTable, element);\n",
              "        const docLink = document.createElement('div');\n",
              "        docLink.innerHTML = docLinkHtml;\n",
              "        element.appendChild(docLink);\n",
              "      }\n",
              "    </script>\n",
              "  </div>\n",
              "\n",
              "\n",
              "<div id=\"df-0fdadc86-2dfc-427c-bb1b-d99cef1b032d\">\n",
              "  <button class=\"colab-df-quickchart\" onclick=\"quickchart('df-0fdadc86-2dfc-427c-bb1b-d99cef1b032d')\"\n",
              "            title=\"Suggest charts\"\n",
              "            style=\"display:none;\">\n",
              "\n",
              "<svg xmlns=\"http://www.w3.org/2000/svg\" height=\"24px\"viewBox=\"0 0 24 24\"\n",
              "     width=\"24px\">\n",
              "    <g>\n",
              "        <path d=\"M19 3H5c-1.1 0-2 .9-2 2v14c0 1.1.9 2 2 2h14c1.1 0 2-.9 2-2V5c0-1.1-.9-2-2-2zM9 17H7v-7h2v7zm4 0h-2V7h2v10zm4 0h-2v-4h2v4z\"/>\n",
              "    </g>\n",
              "</svg>\n",
              "  </button>\n",
              "\n",
              "<style>\n",
              "  .colab-df-quickchart {\n",
              "      --bg-color: #E8F0FE;\n",
              "      --fill-color: #1967D2;\n",
              "      --hover-bg-color: #E2EBFA;\n",
              "      --hover-fill-color: #174EA6;\n",
              "      --disabled-fill-color: #AAA;\n",
              "      --disabled-bg-color: #DDD;\n",
              "  }\n",
              "\n",
              "  [theme=dark] .colab-df-quickchart {\n",
              "      --bg-color: #3B4455;\n",
              "      --fill-color: #D2E3FC;\n",
              "      --hover-bg-color: #434B5C;\n",
              "      --hover-fill-color: #FFFFFF;\n",
              "      --disabled-bg-color: #3B4455;\n",
              "      --disabled-fill-color: #666;\n",
              "  }\n",
              "\n",
              "  .colab-df-quickchart {\n",
              "    background-color: var(--bg-color);\n",
              "    border: none;\n",
              "    border-radius: 50%;\n",
              "    cursor: pointer;\n",
              "    display: none;\n",
              "    fill: var(--fill-color);\n",
              "    height: 32px;\n",
              "    padding: 0;\n",
              "    width: 32px;\n",
              "  }\n",
              "\n",
              "  .colab-df-quickchart:hover {\n",
              "    background-color: var(--hover-bg-color);\n",
              "    box-shadow: 0 1px 2px rgba(60, 64, 67, 0.3), 0 1px 3px 1px rgba(60, 64, 67, 0.15);\n",
              "    fill: var(--button-hover-fill-color);\n",
              "  }\n",
              "\n",
              "  .colab-df-quickchart-complete:disabled,\n",
              "  .colab-df-quickchart-complete:disabled:hover {\n",
              "    background-color: var(--disabled-bg-color);\n",
              "    fill: var(--disabled-fill-color);\n",
              "    box-shadow: none;\n",
              "  }\n",
              "\n",
              "  .colab-df-spinner {\n",
              "    border: 2px solid var(--fill-color);\n",
              "    border-color: transparent;\n",
              "    border-bottom-color: var(--fill-color);\n",
              "    animation:\n",
              "      spin 1s steps(1) infinite;\n",
              "  }\n",
              "\n",
              "  @keyframes spin {\n",
              "    0% {\n",
              "      border-color: transparent;\n",
              "      border-bottom-color: var(--fill-color);\n",
              "      border-left-color: var(--fill-color);\n",
              "    }\n",
              "    20% {\n",
              "      border-color: transparent;\n",
              "      border-left-color: var(--fill-color);\n",
              "      border-top-color: var(--fill-color);\n",
              "    }\n",
              "    30% {\n",
              "      border-color: transparent;\n",
              "      border-left-color: var(--fill-color);\n",
              "      border-top-color: var(--fill-color);\n",
              "      border-right-color: var(--fill-color);\n",
              "    }\n",
              "    40% {\n",
              "      border-color: transparent;\n",
              "      border-right-color: var(--fill-color);\n",
              "      border-top-color: var(--fill-color);\n",
              "    }\n",
              "    60% {\n",
              "      border-color: transparent;\n",
              "      border-right-color: var(--fill-color);\n",
              "    }\n",
              "    80% {\n",
              "      border-color: transparent;\n",
              "      border-right-color: var(--fill-color);\n",
              "      border-bottom-color: var(--fill-color);\n",
              "    }\n",
              "    90% {\n",
              "      border-color: transparent;\n",
              "      border-bottom-color: var(--fill-color);\n",
              "    }\n",
              "  }\n",
              "</style>\n",
              "\n",
              "  <script>\n",
              "    async function quickchart(key) {\n",
              "      const quickchartButtonEl =\n",
              "        document.querySelector('#' + key + ' button');\n",
              "      quickchartButtonEl.disabled = true;  // To prevent multiple clicks.\n",
              "      quickchartButtonEl.classList.add('colab-df-spinner');\n",
              "      try {\n",
              "        const charts = await google.colab.kernel.invokeFunction(\n",
              "            'suggestCharts', [key], {});\n",
              "      } catch (error) {\n",
              "        console.error('Error during call to suggestCharts:', error);\n",
              "      }\n",
              "      quickchartButtonEl.classList.remove('colab-df-spinner');\n",
              "      quickchartButtonEl.classList.add('colab-df-quickchart-complete');\n",
              "    }\n",
              "    (() => {\n",
              "      let quickchartButtonEl =\n",
              "        document.querySelector('#df-0fdadc86-2dfc-427c-bb1b-d99cef1b032d button');\n",
              "      quickchartButtonEl.style.display =\n",
              "        google.colab.kernel.accessAllowed ? 'block' : 'none';\n",
              "    })();\n",
              "  </script>\n",
              "</div>\n",
              "\n",
              "    </div>\n",
              "  </div>\n"
            ]
          },
          "metadata": {},
          "execution_count": 27
        }
      ]
    },
    {
      "cell_type": "markdown",
      "metadata": {
        "id": "flyH4nnzk2GE"
      },
      "source": [
        "Now let's pull out clinical data about our cohort. The module makes this easy with just a simple function call to 'get_clinical'. The dataframe we get from this is like a spreadsheet. The rows are different patients; the columns are different data points. For example, there is a column which says which country a patient is from, what their tumor grade is, etc. If you pan over to the far right you'll see the tumor size and the number of pregnancies."
      ]
    },
    {
      "cell_type": "code",
      "metadata": {
        "id": "MnFP_NDgk65y",
        "colab": {
          "base_uri": "https://localhost:8080/",
          "height": 666
        },
        "outputId": "698e6871-ea1b-4112-97ea-28f1258d6a50"
      },
      "source": [
        "clinical_dataframe = en.get_clinical()#Get the dataframe.\n",
        "clinical_dataframe"
      ],
      "execution_count": null,
      "outputs": [
        {
          "output_type": "execute_result",
          "data": {
            "text/plain": [
              "Name       Sample_ID Sample_Tumor_Normal Proteomics_Tumor_Normal  \\\n",
              "Patient_ID                                                         \n",
              "C3L-00006       S001               Tumor                   Tumor   \n",
              "C3L-00008       S002               Tumor                   Tumor   \n",
              "C3L-00032       S003               Tumor                   Tumor   \n",
              "C3L-00090       S005               Tumor                   Tumor   \n",
              "C3L-00098       S006               Tumor                   Tumor   \n",
              "...              ...                 ...                     ...   \n",
              "NX5.N           S140              Normal         Enriched_normal   \n",
              "NX6.N           S141              Normal         Enriched_normal   \n",
              "NX7.N           S142              Normal         Enriched_normal   \n",
              "NX8.N           S143              Normal         Enriched_normal   \n",
              "NX9.N           S144              Normal         Enriched_normal   \n",
              "\n",
              "Name              Country Histologic_Grade_FIGO Myometrial_invasion_Specify  \\\n",
              "Patient_ID                                                                    \n",
              "C3L-00006   United States          FIGO grade 1                  under 50 %   \n",
              "C3L-00008   United States          FIGO grade 1                  under 50 %   \n",
              "C3L-00032   United States          FIGO grade 2                  under 50 %   \n",
              "C3L-00090   United States          FIGO grade 2                  under 50 %   \n",
              "C3L-00098   United States                   NaN                  under 50 %   \n",
              "...                   ...                   ...                         ...   \n",
              "NX5.N                 NaN                   NaN                         NaN   \n",
              "NX6.N                 NaN                   NaN                         NaN   \n",
              "NX7.N                 NaN                   NaN                         NaN   \n",
              "NX8.N                 NaN                   NaN                         NaN   \n",
              "NX9.N                 NaN                   NaN                         NaN   \n",
              "\n",
              "Name       Histologic_type Treatment_naive Tumor_purity  \\\n",
              "Patient_ID                                                \n",
              "C3L-00006     Endometrioid             YES       Normal   \n",
              "C3L-00008     Endometrioid             YES       Normal   \n",
              "C3L-00032     Endometrioid             YES       Normal   \n",
              "C3L-00090     Endometrioid             YES       Normal   \n",
              "C3L-00098           Serous             YES       Normal   \n",
              "...                    ...             ...          ...   \n",
              "NX5.N                  NaN             NaN          NaN   \n",
              "NX6.N                  NaN             NaN          NaN   \n",
              "NX7.N                  NaN             NaN          NaN   \n",
              "NX8.N                  NaN             NaN          NaN   \n",
              "NX9.N                  NaN             NaN          NaN   \n",
              "\n",
              "Name       Path_Stage_Primary_Tumor-pT  ...   Age Diabetes   Race  \\\n",
              "Patient_ID                              ...                         \n",
              "C3L-00006               pT1a (FIGO IA)  ...  64.0       No  White   \n",
              "C3L-00008               pT1a (FIGO IA)  ...  58.0       No  White   \n",
              "C3L-00032               pT1a (FIGO IA)  ...  50.0      Yes  White   \n",
              "C3L-00090               pT1a (FIGO IA)  ...  75.0       No  White   \n",
              "C3L-00098               pT1a (FIGO IA)  ...  63.0       No  White   \n",
              "...                                ...  ...   ...      ...    ...   \n",
              "NX5.N                              NaN  ...   NaN      NaN    NaN   \n",
              "NX6.N                              NaN  ...   NaN      NaN    NaN   \n",
              "NX7.N                              NaN  ...   NaN      NaN    NaN   \n",
              "NX8.N                              NaN  ...   NaN      NaN    NaN   \n",
              "NX9.N                              NaN  ...   NaN      NaN    NaN   \n",
              "\n",
              "Name                     Ethnicity  Gender             Tumor_Site  \\\n",
              "Patient_ID                                                          \n",
              "C3L-00006   Not-Hispanic or Latino  Female   Anterior endometrium   \n",
              "C3L-00008   Not-Hispanic or Latino  Female  Posterior endometrium   \n",
              "C3L-00032   Not-Hispanic or Latino  Female         Other, specify   \n",
              "C3L-00090   Not-Hispanic or Latino  Female         Other, specify   \n",
              "C3L-00098   Not-Hispanic or Latino  Female         Other, specify   \n",
              "...                            ...     ...                    ...   \n",
              "NX5.N                          NaN     NaN                    NaN   \n",
              "NX6.N                          NaN     NaN                    NaN   \n",
              "NX7.N                          NaN     NaN                    NaN   \n",
              "NX8.N                          NaN     NaN                    NaN   \n",
              "NX9.N                          NaN     NaN                    NaN   \n",
              "\n",
              "Name                           Tumor_Site_Other  Tumor_Focality Tumor_Size_cm  \\\n",
              "Patient_ID                                                                      \n",
              "C3L-00006                                   NaN        Unifocal           2.9   \n",
              "C3L-00008                                   NaN        Unifocal           3.5   \n",
              "C3L-00032    Anterior and Posterior endometrium        Unifocal           4.5   \n",
              "C3L-00090    Anterior and Posterior endometrium        Unifocal           3.5   \n",
              "C3L-00098   Anterior  and Posterior endometrium        Unifocal           6.0   \n",
              "...                                         ...             ...           ...   \n",
              "NX5.N                                       NaN             NaN           NaN   \n",
              "NX6.N                                       NaN             NaN           NaN   \n",
              "NX7.N                                       NaN             NaN           NaN   \n",
              "NX8.N                                       NaN             NaN           NaN   \n",
              "NX9.N                                       NaN             NaN           NaN   \n",
              "\n",
              "Name       Num_full_term_pregnancies  \n",
              "Patient_ID                            \n",
              "C3L-00006                          1  \n",
              "C3L-00008                          1  \n",
              "C3L-00032                  4 or more  \n",
              "C3L-00090                  4 or more  \n",
              "C3L-00098                          2  \n",
              "...                              ...  \n",
              "NX5.N                            NaN  \n",
              "NX6.N                            NaN  \n",
              "NX7.N                            NaN  \n",
              "NX8.N                            NaN  \n",
              "NX9.N                            NaN  \n",
              "\n",
              "[144 rows x 27 columns]"
            ],
            "text/html": [
              "\n",
              "  <div id=\"df-be09931c-f6a5-4618-a624-7e1802966eb2\" class=\"colab-df-container\">\n",
              "    <div>\n",
              "<style scoped>\n",
              "    .dataframe tbody tr th:only-of-type {\n",
              "        vertical-align: middle;\n",
              "    }\n",
              "\n",
              "    .dataframe tbody tr th {\n",
              "        vertical-align: top;\n",
              "    }\n",
              "\n",
              "    .dataframe thead th {\n",
              "        text-align: right;\n",
              "    }\n",
              "</style>\n",
              "<table border=\"1\" class=\"dataframe\">\n",
              "  <thead>\n",
              "    <tr style=\"text-align: right;\">\n",
              "      <th>Name</th>\n",
              "      <th>Sample_ID</th>\n",
              "      <th>Sample_Tumor_Normal</th>\n",
              "      <th>Proteomics_Tumor_Normal</th>\n",
              "      <th>Country</th>\n",
              "      <th>Histologic_Grade_FIGO</th>\n",
              "      <th>Myometrial_invasion_Specify</th>\n",
              "      <th>Histologic_type</th>\n",
              "      <th>Treatment_naive</th>\n",
              "      <th>Tumor_purity</th>\n",
              "      <th>Path_Stage_Primary_Tumor-pT</th>\n",
              "      <th>...</th>\n",
              "      <th>Age</th>\n",
              "      <th>Diabetes</th>\n",
              "      <th>Race</th>\n",
              "      <th>Ethnicity</th>\n",
              "      <th>Gender</th>\n",
              "      <th>Tumor_Site</th>\n",
              "      <th>Tumor_Site_Other</th>\n",
              "      <th>Tumor_Focality</th>\n",
              "      <th>Tumor_Size_cm</th>\n",
              "      <th>Num_full_term_pregnancies</th>\n",
              "    </tr>\n",
              "    <tr>\n",
              "      <th>Patient_ID</th>\n",
              "      <th></th>\n",
              "      <th></th>\n",
              "      <th></th>\n",
              "      <th></th>\n",
              "      <th></th>\n",
              "      <th></th>\n",
              "      <th></th>\n",
              "      <th></th>\n",
              "      <th></th>\n",
              "      <th></th>\n",
              "      <th></th>\n",
              "      <th></th>\n",
              "      <th></th>\n",
              "      <th></th>\n",
              "      <th></th>\n",
              "      <th></th>\n",
              "      <th></th>\n",
              "      <th></th>\n",
              "      <th></th>\n",
              "      <th></th>\n",
              "      <th></th>\n",
              "    </tr>\n",
              "  </thead>\n",
              "  <tbody>\n",
              "    <tr>\n",
              "      <th>C3L-00006</th>\n",
              "      <td>S001</td>\n",
              "      <td>Tumor</td>\n",
              "      <td>Tumor</td>\n",
              "      <td>United States</td>\n",
              "      <td>FIGO grade 1</td>\n",
              "      <td>under 50 %</td>\n",
              "      <td>Endometrioid</td>\n",
              "      <td>YES</td>\n",
              "      <td>Normal</td>\n",
              "      <td>pT1a (FIGO IA)</td>\n",
              "      <td>...</td>\n",
              "      <td>64.0</td>\n",
              "      <td>No</td>\n",
              "      <td>White</td>\n",
              "      <td>Not-Hispanic or Latino</td>\n",
              "      <td>Female</td>\n",
              "      <td>Anterior endometrium</td>\n",
              "      <td>NaN</td>\n",
              "      <td>Unifocal</td>\n",
              "      <td>2.9</td>\n",
              "      <td>1</td>\n",
              "    </tr>\n",
              "    <tr>\n",
              "      <th>C3L-00008</th>\n",
              "      <td>S002</td>\n",
              "      <td>Tumor</td>\n",
              "      <td>Tumor</td>\n",
              "      <td>United States</td>\n",
              "      <td>FIGO grade 1</td>\n",
              "      <td>under 50 %</td>\n",
              "      <td>Endometrioid</td>\n",
              "      <td>YES</td>\n",
              "      <td>Normal</td>\n",
              "      <td>pT1a (FIGO IA)</td>\n",
              "      <td>...</td>\n",
              "      <td>58.0</td>\n",
              "      <td>No</td>\n",
              "      <td>White</td>\n",
              "      <td>Not-Hispanic or Latino</td>\n",
              "      <td>Female</td>\n",
              "      <td>Posterior endometrium</td>\n",
              "      <td>NaN</td>\n",
              "      <td>Unifocal</td>\n",
              "      <td>3.5</td>\n",
              "      <td>1</td>\n",
              "    </tr>\n",
              "    <tr>\n",
              "      <th>C3L-00032</th>\n",
              "      <td>S003</td>\n",
              "      <td>Tumor</td>\n",
              "      <td>Tumor</td>\n",
              "      <td>United States</td>\n",
              "      <td>FIGO grade 2</td>\n",
              "      <td>under 50 %</td>\n",
              "      <td>Endometrioid</td>\n",
              "      <td>YES</td>\n",
              "      <td>Normal</td>\n",
              "      <td>pT1a (FIGO IA)</td>\n",
              "      <td>...</td>\n",
              "      <td>50.0</td>\n",
              "      <td>Yes</td>\n",
              "      <td>White</td>\n",
              "      <td>Not-Hispanic or Latino</td>\n",
              "      <td>Female</td>\n",
              "      <td>Other, specify</td>\n",
              "      <td>Anterior and Posterior endometrium</td>\n",
              "      <td>Unifocal</td>\n",
              "      <td>4.5</td>\n",
              "      <td>4 or more</td>\n",
              "    </tr>\n",
              "    <tr>\n",
              "      <th>C3L-00090</th>\n",
              "      <td>S005</td>\n",
              "      <td>Tumor</td>\n",
              "      <td>Tumor</td>\n",
              "      <td>United States</td>\n",
              "      <td>FIGO grade 2</td>\n",
              "      <td>under 50 %</td>\n",
              "      <td>Endometrioid</td>\n",
              "      <td>YES</td>\n",
              "      <td>Normal</td>\n",
              "      <td>pT1a (FIGO IA)</td>\n",
              "      <td>...</td>\n",
              "      <td>75.0</td>\n",
              "      <td>No</td>\n",
              "      <td>White</td>\n",
              "      <td>Not-Hispanic or Latino</td>\n",
              "      <td>Female</td>\n",
              "      <td>Other, specify</td>\n",
              "      <td>Anterior and Posterior endometrium</td>\n",
              "      <td>Unifocal</td>\n",
              "      <td>3.5</td>\n",
              "      <td>4 or more</td>\n",
              "    </tr>\n",
              "    <tr>\n",
              "      <th>C3L-00098</th>\n",
              "      <td>S006</td>\n",
              "      <td>Tumor</td>\n",
              "      <td>Tumor</td>\n",
              "      <td>United States</td>\n",
              "      <td>NaN</td>\n",
              "      <td>under 50 %</td>\n",
              "      <td>Serous</td>\n",
              "      <td>YES</td>\n",
              "      <td>Normal</td>\n",
              "      <td>pT1a (FIGO IA)</td>\n",
              "      <td>...</td>\n",
              "      <td>63.0</td>\n",
              "      <td>No</td>\n",
              "      <td>White</td>\n",
              "      <td>Not-Hispanic or Latino</td>\n",
              "      <td>Female</td>\n",
              "      <td>Other, specify</td>\n",
              "      <td>Anterior  and Posterior endometrium</td>\n",
              "      <td>Unifocal</td>\n",
              "      <td>6.0</td>\n",
              "      <td>2</td>\n",
              "    </tr>\n",
              "    <tr>\n",
              "      <th>...</th>\n",
              "      <td>...</td>\n",
              "      <td>...</td>\n",
              "      <td>...</td>\n",
              "      <td>...</td>\n",
              "      <td>...</td>\n",
              "      <td>...</td>\n",
              "      <td>...</td>\n",
              "      <td>...</td>\n",
              "      <td>...</td>\n",
              "      <td>...</td>\n",
              "      <td>...</td>\n",
              "      <td>...</td>\n",
              "      <td>...</td>\n",
              "      <td>...</td>\n",
              "      <td>...</td>\n",
              "      <td>...</td>\n",
              "      <td>...</td>\n",
              "      <td>...</td>\n",
              "      <td>...</td>\n",
              "      <td>...</td>\n",
              "      <td>...</td>\n",
              "    </tr>\n",
              "    <tr>\n",
              "      <th>NX5.N</th>\n",
              "      <td>S140</td>\n",
              "      <td>Normal</td>\n",
              "      <td>Enriched_normal</td>\n",
              "      <td>NaN</td>\n",
              "      <td>NaN</td>\n",
              "      <td>NaN</td>\n",
              "      <td>NaN</td>\n",
              "      <td>NaN</td>\n",
              "      <td>NaN</td>\n",
              "      <td>NaN</td>\n",
              "      <td>...</td>\n",
              "      <td>NaN</td>\n",
              "      <td>NaN</td>\n",
              "      <td>NaN</td>\n",
              "      <td>NaN</td>\n",
              "      <td>NaN</td>\n",
              "      <td>NaN</td>\n",
              "      <td>NaN</td>\n",
              "      <td>NaN</td>\n",
              "      <td>NaN</td>\n",
              "      <td>NaN</td>\n",
              "    </tr>\n",
              "    <tr>\n",
              "      <th>NX6.N</th>\n",
              "      <td>S141</td>\n",
              "      <td>Normal</td>\n",
              "      <td>Enriched_normal</td>\n",
              "      <td>NaN</td>\n",
              "      <td>NaN</td>\n",
              "      <td>NaN</td>\n",
              "      <td>NaN</td>\n",
              "      <td>NaN</td>\n",
              "      <td>NaN</td>\n",
              "      <td>NaN</td>\n",
              "      <td>...</td>\n",
              "      <td>NaN</td>\n",
              "      <td>NaN</td>\n",
              "      <td>NaN</td>\n",
              "      <td>NaN</td>\n",
              "      <td>NaN</td>\n",
              "      <td>NaN</td>\n",
              "      <td>NaN</td>\n",
              "      <td>NaN</td>\n",
              "      <td>NaN</td>\n",
              "      <td>NaN</td>\n",
              "    </tr>\n",
              "    <tr>\n",
              "      <th>NX7.N</th>\n",
              "      <td>S142</td>\n",
              "      <td>Normal</td>\n",
              "      <td>Enriched_normal</td>\n",
              "      <td>NaN</td>\n",
              "      <td>NaN</td>\n",
              "      <td>NaN</td>\n",
              "      <td>NaN</td>\n",
              "      <td>NaN</td>\n",
              "      <td>NaN</td>\n",
              "      <td>NaN</td>\n",
              "      <td>...</td>\n",
              "      <td>NaN</td>\n",
              "      <td>NaN</td>\n",
              "      <td>NaN</td>\n",
              "      <td>NaN</td>\n",
              "      <td>NaN</td>\n",
              "      <td>NaN</td>\n",
              "      <td>NaN</td>\n",
              "      <td>NaN</td>\n",
              "      <td>NaN</td>\n",
              "      <td>NaN</td>\n",
              "    </tr>\n",
              "    <tr>\n",
              "      <th>NX8.N</th>\n",
              "      <td>S143</td>\n",
              "      <td>Normal</td>\n",
              "      <td>Enriched_normal</td>\n",
              "      <td>NaN</td>\n",
              "      <td>NaN</td>\n",
              "      <td>NaN</td>\n",
              "      <td>NaN</td>\n",
              "      <td>NaN</td>\n",
              "      <td>NaN</td>\n",
              "      <td>NaN</td>\n",
              "      <td>...</td>\n",
              "      <td>NaN</td>\n",
              "      <td>NaN</td>\n",
              "      <td>NaN</td>\n",
              "      <td>NaN</td>\n",
              "      <td>NaN</td>\n",
              "      <td>NaN</td>\n",
              "      <td>NaN</td>\n",
              "      <td>NaN</td>\n",
              "      <td>NaN</td>\n",
              "      <td>NaN</td>\n",
              "    </tr>\n",
              "    <tr>\n",
              "      <th>NX9.N</th>\n",
              "      <td>S144</td>\n",
              "      <td>Normal</td>\n",
              "      <td>Enriched_normal</td>\n",
              "      <td>NaN</td>\n",
              "      <td>NaN</td>\n",
              "      <td>NaN</td>\n",
              "      <td>NaN</td>\n",
              "      <td>NaN</td>\n",
              "      <td>NaN</td>\n",
              "      <td>NaN</td>\n",
              "      <td>...</td>\n",
              "      <td>NaN</td>\n",
              "      <td>NaN</td>\n",
              "      <td>NaN</td>\n",
              "      <td>NaN</td>\n",
              "      <td>NaN</td>\n",
              "      <td>NaN</td>\n",
              "      <td>NaN</td>\n",
              "      <td>NaN</td>\n",
              "      <td>NaN</td>\n",
              "      <td>NaN</td>\n",
              "    </tr>\n",
              "  </tbody>\n",
              "</table>\n",
              "<p>144 rows × 27 columns</p>\n",
              "</div>\n",
              "    <div class=\"colab-df-buttons\">\n",
              "\n",
              "  <div class=\"colab-df-container\">\n",
              "    <button class=\"colab-df-convert\" onclick=\"convertToInteractive('df-be09931c-f6a5-4618-a624-7e1802966eb2')\"\n",
              "            title=\"Convert this dataframe to an interactive table.\"\n",
              "            style=\"display:none;\">\n",
              "\n",
              "  <svg xmlns=\"http://www.w3.org/2000/svg\" height=\"24px\" viewBox=\"0 -960 960 960\">\n",
              "    <path d=\"M120-120v-720h720v720H120Zm60-500h600v-160H180v160Zm220 220h160v-160H400v160Zm0 220h160v-160H400v160ZM180-400h160v-160H180v160Zm440 0h160v-160H620v160ZM180-180h160v-160H180v160Zm440 0h160v-160H620v160Z\"/>\n",
              "  </svg>\n",
              "    </button>\n",
              "\n",
              "  <style>\n",
              "    .colab-df-container {\n",
              "      display:flex;\n",
              "      gap: 12px;\n",
              "    }\n",
              "\n",
              "    .colab-df-convert {\n",
              "      background-color: #E8F0FE;\n",
              "      border: none;\n",
              "      border-radius: 50%;\n",
              "      cursor: pointer;\n",
              "      display: none;\n",
              "      fill: #1967D2;\n",
              "      height: 32px;\n",
              "      padding: 0 0 0 0;\n",
              "      width: 32px;\n",
              "    }\n",
              "\n",
              "    .colab-df-convert:hover {\n",
              "      background-color: #E2EBFA;\n",
              "      box-shadow: 0px 1px 2px rgba(60, 64, 67, 0.3), 0px 1px 3px 1px rgba(60, 64, 67, 0.15);\n",
              "      fill: #174EA6;\n",
              "    }\n",
              "\n",
              "    .colab-df-buttons div {\n",
              "      margin-bottom: 4px;\n",
              "    }\n",
              "\n",
              "    [theme=dark] .colab-df-convert {\n",
              "      background-color: #3B4455;\n",
              "      fill: #D2E3FC;\n",
              "    }\n",
              "\n",
              "    [theme=dark] .colab-df-convert:hover {\n",
              "      background-color: #434B5C;\n",
              "      box-shadow: 0px 1px 3px 1px rgba(0, 0, 0, 0.15);\n",
              "      filter: drop-shadow(0px 1px 2px rgba(0, 0, 0, 0.3));\n",
              "      fill: #FFFFFF;\n",
              "    }\n",
              "  </style>\n",
              "\n",
              "    <script>\n",
              "      const buttonEl =\n",
              "        document.querySelector('#df-be09931c-f6a5-4618-a624-7e1802966eb2 button.colab-df-convert');\n",
              "      buttonEl.style.display =\n",
              "        google.colab.kernel.accessAllowed ? 'block' : 'none';\n",
              "\n",
              "      async function convertToInteractive(key) {\n",
              "        const element = document.querySelector('#df-be09931c-f6a5-4618-a624-7e1802966eb2');\n",
              "        const dataTable =\n",
              "          await google.colab.kernel.invokeFunction('convertToInteractive',\n",
              "                                                    [key], {});\n",
              "        if (!dataTable) return;\n",
              "\n",
              "        const docLinkHtml = 'Like what you see? Visit the ' +\n",
              "          '<a target=\"_blank\" href=https://colab.research.google.com/notebooks/data_table.ipynb>data table notebook</a>'\n",
              "          + ' to learn more about interactive tables.';\n",
              "        element.innerHTML = '';\n",
              "        dataTable['output_type'] = 'display_data';\n",
              "        await google.colab.output.renderOutput(dataTable, element);\n",
              "        const docLink = document.createElement('div');\n",
              "        docLink.innerHTML = docLinkHtml;\n",
              "        element.appendChild(docLink);\n",
              "      }\n",
              "    </script>\n",
              "  </div>\n",
              "\n",
              "\n",
              "<div id=\"df-cdd318c2-febd-4da1-87c5-cec3a2a40ab1\">\n",
              "  <button class=\"colab-df-quickchart\" onclick=\"quickchart('df-cdd318c2-febd-4da1-87c5-cec3a2a40ab1')\"\n",
              "            title=\"Suggest charts\"\n",
              "            style=\"display:none;\">\n",
              "\n",
              "<svg xmlns=\"http://www.w3.org/2000/svg\" height=\"24px\"viewBox=\"0 0 24 24\"\n",
              "     width=\"24px\">\n",
              "    <g>\n",
              "        <path d=\"M19 3H5c-1.1 0-2 .9-2 2v14c0 1.1.9 2 2 2h14c1.1 0 2-.9 2-2V5c0-1.1-.9-2-2-2zM9 17H7v-7h2v7zm4 0h-2V7h2v10zm4 0h-2v-4h2v4z\"/>\n",
              "    </g>\n",
              "</svg>\n",
              "  </button>\n",
              "\n",
              "<style>\n",
              "  .colab-df-quickchart {\n",
              "      --bg-color: #E8F0FE;\n",
              "      --fill-color: #1967D2;\n",
              "      --hover-bg-color: #E2EBFA;\n",
              "      --hover-fill-color: #174EA6;\n",
              "      --disabled-fill-color: #AAA;\n",
              "      --disabled-bg-color: #DDD;\n",
              "  }\n",
              "\n",
              "  [theme=dark] .colab-df-quickchart {\n",
              "      --bg-color: #3B4455;\n",
              "      --fill-color: #D2E3FC;\n",
              "      --hover-bg-color: #434B5C;\n",
              "      --hover-fill-color: #FFFFFF;\n",
              "      --disabled-bg-color: #3B4455;\n",
              "      --disabled-fill-color: #666;\n",
              "  }\n",
              "\n",
              "  .colab-df-quickchart {\n",
              "    background-color: var(--bg-color);\n",
              "    border: none;\n",
              "    border-radius: 50%;\n",
              "    cursor: pointer;\n",
              "    display: none;\n",
              "    fill: var(--fill-color);\n",
              "    height: 32px;\n",
              "    padding: 0;\n",
              "    width: 32px;\n",
              "  }\n",
              "\n",
              "  .colab-df-quickchart:hover {\n",
              "    background-color: var(--hover-bg-color);\n",
              "    box-shadow: 0 1px 2px rgba(60, 64, 67, 0.3), 0 1px 3px 1px rgba(60, 64, 67, 0.15);\n",
              "    fill: var(--button-hover-fill-color);\n",
              "  }\n",
              "\n",
              "  .colab-df-quickchart-complete:disabled,\n",
              "  .colab-df-quickchart-complete:disabled:hover {\n",
              "    background-color: var(--disabled-bg-color);\n",
              "    fill: var(--disabled-fill-color);\n",
              "    box-shadow: none;\n",
              "  }\n",
              "\n",
              "  .colab-df-spinner {\n",
              "    border: 2px solid var(--fill-color);\n",
              "    border-color: transparent;\n",
              "    border-bottom-color: var(--fill-color);\n",
              "    animation:\n",
              "      spin 1s steps(1) infinite;\n",
              "  }\n",
              "\n",
              "  @keyframes spin {\n",
              "    0% {\n",
              "      border-color: transparent;\n",
              "      border-bottom-color: var(--fill-color);\n",
              "      border-left-color: var(--fill-color);\n",
              "    }\n",
              "    20% {\n",
              "      border-color: transparent;\n",
              "      border-left-color: var(--fill-color);\n",
              "      border-top-color: var(--fill-color);\n",
              "    }\n",
              "    30% {\n",
              "      border-color: transparent;\n",
              "      border-left-color: var(--fill-color);\n",
              "      border-top-color: var(--fill-color);\n",
              "      border-right-color: var(--fill-color);\n",
              "    }\n",
              "    40% {\n",
              "      border-color: transparent;\n",
              "      border-right-color: var(--fill-color);\n",
              "      border-top-color: var(--fill-color);\n",
              "    }\n",
              "    60% {\n",
              "      border-color: transparent;\n",
              "      border-right-color: var(--fill-color);\n",
              "    }\n",
              "    80% {\n",
              "      border-color: transparent;\n",
              "      border-right-color: var(--fill-color);\n",
              "      border-bottom-color: var(--fill-color);\n",
              "    }\n",
              "    90% {\n",
              "      border-color: transparent;\n",
              "      border-bottom-color: var(--fill-color);\n",
              "    }\n",
              "  }\n",
              "</style>\n",
              "\n",
              "  <script>\n",
              "    async function quickchart(key) {\n",
              "      const quickchartButtonEl =\n",
              "        document.querySelector('#' + key + ' button');\n",
              "      quickchartButtonEl.disabled = true;  // To prevent multiple clicks.\n",
              "      quickchartButtonEl.classList.add('colab-df-spinner');\n",
              "      try {\n",
              "        const charts = await google.colab.kernel.invokeFunction(\n",
              "            'suggestCharts', [key], {});\n",
              "      } catch (error) {\n",
              "        console.error('Error during call to suggestCharts:', error);\n",
              "      }\n",
              "      quickchartButtonEl.classList.remove('colab-df-spinner');\n",
              "      quickchartButtonEl.classList.add('colab-df-quickchart-complete');\n",
              "    }\n",
              "    (() => {\n",
              "      let quickchartButtonEl =\n",
              "        document.querySelector('#df-cdd318c2-febd-4da1-87c5-cec3a2a40ab1 button');\n",
              "      quickchartButtonEl.style.display =\n",
              "        google.colab.kernel.accessAllowed ? 'block' : 'none';\n",
              "    })();\n",
              "  </script>\n",
              "</div>\n",
              "\n",
              "  <div id=\"id_963926bc-8e2d-45c8-ab29-a25bdebae409\">\n",
              "    <style>\n",
              "      .colab-df-generate {\n",
              "        background-color: #E8F0FE;\n",
              "        border: none;\n",
              "        border-radius: 50%;\n",
              "        cursor: pointer;\n",
              "        display: none;\n",
              "        fill: #1967D2;\n",
              "        height: 32px;\n",
              "        padding: 0 0 0 0;\n",
              "        width: 32px;\n",
              "      }\n",
              "\n",
              "      .colab-df-generate:hover {\n",
              "        background-color: #E2EBFA;\n",
              "        box-shadow: 0px 1px 2px rgba(60, 64, 67, 0.3), 0px 1px 3px 1px rgba(60, 64, 67, 0.15);\n",
              "        fill: #174EA6;\n",
              "      }\n",
              "\n",
              "      [theme=dark] .colab-df-generate {\n",
              "        background-color: #3B4455;\n",
              "        fill: #D2E3FC;\n",
              "      }\n",
              "\n",
              "      [theme=dark] .colab-df-generate:hover {\n",
              "        background-color: #434B5C;\n",
              "        box-shadow: 0px 1px 3px 1px rgba(0, 0, 0, 0.15);\n",
              "        filter: drop-shadow(0px 1px 2px rgba(0, 0, 0, 0.3));\n",
              "        fill: #FFFFFF;\n",
              "      }\n",
              "    </style>\n",
              "    <button class=\"colab-df-generate\" onclick=\"generateWithVariable('clinical_dataframe')\"\n",
              "            title=\"Generate code using this dataframe.\"\n",
              "            style=\"display:none;\">\n",
              "\n",
              "  <svg xmlns=\"http://www.w3.org/2000/svg\" height=\"24px\"viewBox=\"0 0 24 24\"\n",
              "       width=\"24px\">\n",
              "    <path d=\"M7,19H8.4L18.45,9,17,7.55,7,17.6ZM5,21V16.75L18.45,3.32a2,2,0,0,1,2.83,0l1.4,1.43a1.91,1.91,0,0,1,.58,1.4,1.91,1.91,0,0,1-.58,1.4L9.25,21ZM18.45,9,17,7.55Zm-12,3A5.31,5.31,0,0,0,4.9,8.1,5.31,5.31,0,0,0,1,6.5,5.31,5.31,0,0,0,4.9,4.9,5.31,5.31,0,0,0,6.5,1,5.31,5.31,0,0,0,8.1,4.9,5.31,5.31,0,0,0,12,6.5,5.46,5.46,0,0,0,6.5,12Z\"/>\n",
              "  </svg>\n",
              "    </button>\n",
              "    <script>\n",
              "      (() => {\n",
              "      const buttonEl =\n",
              "        document.querySelector('#id_963926bc-8e2d-45c8-ab29-a25bdebae409 button.colab-df-generate');\n",
              "      buttonEl.style.display =\n",
              "        google.colab.kernel.accessAllowed ? 'block' : 'none';\n",
              "\n",
              "      buttonEl.onclick = () => {\n",
              "        google.colab.notebook.generateWithVariable('clinical_dataframe');\n",
              "      }\n",
              "      })();\n",
              "    </script>\n",
              "  </div>\n",
              "\n",
              "    </div>\n",
              "  </div>\n"
            ]
          },
          "metadata": {},
          "execution_count": 120
        }
      ]
    },
    {
      "cell_type": "code",
      "source": [
        "df = clinical_dataframe[['Country','Num_full_term_pregnancies']]\n",
        "df\n",
        "\n",
        "df1 = df.loc[(df['Country'] == 'Ukraine') & (df['Num_full_term_pregnancies'] == 'None')]\n",
        "df1"
      ],
      "metadata": {
        "colab": {
          "base_uri": "https://localhost:8080/",
          "height": 175
        },
        "id": "F_w6VAfmVC26",
        "outputId": "7c8038fb-8d70-423a-b56d-8ea0e7bcc648"
      },
      "execution_count": null,
      "outputs": [
        {
          "output_type": "execute_result",
          "data": {
            "text/plain": [
              "Name        Country Num_full_term_pregnancies\n",
              "Patient_ID                                   \n",
              "C3N-00335   Ukraine                      None\n",
              "C3N-00848   Ukraine                      None\n",
              "C3N-01217   Ukraine                      None"
            ],
            "text/html": [
              "\n",
              "  <div id=\"df-036de071-4a6f-4d87-94cc-7c84a6653196\" class=\"colab-df-container\">\n",
              "    <div>\n",
              "<style scoped>\n",
              "    .dataframe tbody tr th:only-of-type {\n",
              "        vertical-align: middle;\n",
              "    }\n",
              "\n",
              "    .dataframe tbody tr th {\n",
              "        vertical-align: top;\n",
              "    }\n",
              "\n",
              "    .dataframe thead th {\n",
              "        text-align: right;\n",
              "    }\n",
              "</style>\n",
              "<table border=\"1\" class=\"dataframe\">\n",
              "  <thead>\n",
              "    <tr style=\"text-align: right;\">\n",
              "      <th>Name</th>\n",
              "      <th>Country</th>\n",
              "      <th>Num_full_term_pregnancies</th>\n",
              "    </tr>\n",
              "    <tr>\n",
              "      <th>Patient_ID</th>\n",
              "      <th></th>\n",
              "      <th></th>\n",
              "    </tr>\n",
              "  </thead>\n",
              "  <tbody>\n",
              "    <tr>\n",
              "      <th>C3N-00335</th>\n",
              "      <td>Ukraine</td>\n",
              "      <td>None</td>\n",
              "    </tr>\n",
              "    <tr>\n",
              "      <th>C3N-00848</th>\n",
              "      <td>Ukraine</td>\n",
              "      <td>None</td>\n",
              "    </tr>\n",
              "    <tr>\n",
              "      <th>C3N-01217</th>\n",
              "      <td>Ukraine</td>\n",
              "      <td>None</td>\n",
              "    </tr>\n",
              "  </tbody>\n",
              "</table>\n",
              "</div>\n",
              "    <div class=\"colab-df-buttons\">\n",
              "\n",
              "  <div class=\"colab-df-container\">\n",
              "    <button class=\"colab-df-convert\" onclick=\"convertToInteractive('df-036de071-4a6f-4d87-94cc-7c84a6653196')\"\n",
              "            title=\"Convert this dataframe to an interactive table.\"\n",
              "            style=\"display:none;\">\n",
              "\n",
              "  <svg xmlns=\"http://www.w3.org/2000/svg\" height=\"24px\" viewBox=\"0 -960 960 960\">\n",
              "    <path d=\"M120-120v-720h720v720H120Zm60-500h600v-160H180v160Zm220 220h160v-160H400v160Zm0 220h160v-160H400v160ZM180-400h160v-160H180v160Zm440 0h160v-160H620v160ZM180-180h160v-160H180v160Zm440 0h160v-160H620v160Z\"/>\n",
              "  </svg>\n",
              "    </button>\n",
              "\n",
              "  <style>\n",
              "    .colab-df-container {\n",
              "      display:flex;\n",
              "      gap: 12px;\n",
              "    }\n",
              "\n",
              "    .colab-df-convert {\n",
              "      background-color: #E8F0FE;\n",
              "      border: none;\n",
              "      border-radius: 50%;\n",
              "      cursor: pointer;\n",
              "      display: none;\n",
              "      fill: #1967D2;\n",
              "      height: 32px;\n",
              "      padding: 0 0 0 0;\n",
              "      width: 32px;\n",
              "    }\n",
              "\n",
              "    .colab-df-convert:hover {\n",
              "      background-color: #E2EBFA;\n",
              "      box-shadow: 0px 1px 2px rgba(60, 64, 67, 0.3), 0px 1px 3px 1px rgba(60, 64, 67, 0.15);\n",
              "      fill: #174EA6;\n",
              "    }\n",
              "\n",
              "    .colab-df-buttons div {\n",
              "      margin-bottom: 4px;\n",
              "    }\n",
              "\n",
              "    [theme=dark] .colab-df-convert {\n",
              "      background-color: #3B4455;\n",
              "      fill: #D2E3FC;\n",
              "    }\n",
              "\n",
              "    [theme=dark] .colab-df-convert:hover {\n",
              "      background-color: #434B5C;\n",
              "      box-shadow: 0px 1px 3px 1px rgba(0, 0, 0, 0.15);\n",
              "      filter: drop-shadow(0px 1px 2px rgba(0, 0, 0, 0.3));\n",
              "      fill: #FFFFFF;\n",
              "    }\n",
              "  </style>\n",
              "\n",
              "    <script>\n",
              "      const buttonEl =\n",
              "        document.querySelector('#df-036de071-4a6f-4d87-94cc-7c84a6653196 button.colab-df-convert');\n",
              "      buttonEl.style.display =\n",
              "        google.colab.kernel.accessAllowed ? 'block' : 'none';\n",
              "\n",
              "      async function convertToInteractive(key) {\n",
              "        const element = document.querySelector('#df-036de071-4a6f-4d87-94cc-7c84a6653196');\n",
              "        const dataTable =\n",
              "          await google.colab.kernel.invokeFunction('convertToInteractive',\n",
              "                                                    [key], {});\n",
              "        if (!dataTable) return;\n",
              "\n",
              "        const docLinkHtml = 'Like what you see? Visit the ' +\n",
              "          '<a target=\"_blank\" href=https://colab.research.google.com/notebooks/data_table.ipynb>data table notebook</a>'\n",
              "          + ' to learn more about interactive tables.';\n",
              "        element.innerHTML = '';\n",
              "        dataTable['output_type'] = 'display_data';\n",
              "        await google.colab.output.renderOutput(dataTable, element);\n",
              "        const docLink = document.createElement('div');\n",
              "        docLink.innerHTML = docLinkHtml;\n",
              "        element.appendChild(docLink);\n",
              "      }\n",
              "    </script>\n",
              "  </div>\n",
              "\n",
              "\n",
              "<div id=\"df-a148ee15-2ba9-40ce-8f97-2154bd24da0a\">\n",
              "  <button class=\"colab-df-quickchart\" onclick=\"quickchart('df-a148ee15-2ba9-40ce-8f97-2154bd24da0a')\"\n",
              "            title=\"Suggest charts\"\n",
              "            style=\"display:none;\">\n",
              "\n",
              "<svg xmlns=\"http://www.w3.org/2000/svg\" height=\"24px\"viewBox=\"0 0 24 24\"\n",
              "     width=\"24px\">\n",
              "    <g>\n",
              "        <path d=\"M19 3H5c-1.1 0-2 .9-2 2v14c0 1.1.9 2 2 2h14c1.1 0 2-.9 2-2V5c0-1.1-.9-2-2-2zM9 17H7v-7h2v7zm4 0h-2V7h2v10zm4 0h-2v-4h2v4z\"/>\n",
              "    </g>\n",
              "</svg>\n",
              "  </button>\n",
              "\n",
              "<style>\n",
              "  .colab-df-quickchart {\n",
              "      --bg-color: #E8F0FE;\n",
              "      --fill-color: #1967D2;\n",
              "      --hover-bg-color: #E2EBFA;\n",
              "      --hover-fill-color: #174EA6;\n",
              "      --disabled-fill-color: #AAA;\n",
              "      --disabled-bg-color: #DDD;\n",
              "  }\n",
              "\n",
              "  [theme=dark] .colab-df-quickchart {\n",
              "      --bg-color: #3B4455;\n",
              "      --fill-color: #D2E3FC;\n",
              "      --hover-bg-color: #434B5C;\n",
              "      --hover-fill-color: #FFFFFF;\n",
              "      --disabled-bg-color: #3B4455;\n",
              "      --disabled-fill-color: #666;\n",
              "  }\n",
              "\n",
              "  .colab-df-quickchart {\n",
              "    background-color: var(--bg-color);\n",
              "    border: none;\n",
              "    border-radius: 50%;\n",
              "    cursor: pointer;\n",
              "    display: none;\n",
              "    fill: var(--fill-color);\n",
              "    height: 32px;\n",
              "    padding: 0;\n",
              "    width: 32px;\n",
              "  }\n",
              "\n",
              "  .colab-df-quickchart:hover {\n",
              "    background-color: var(--hover-bg-color);\n",
              "    box-shadow: 0 1px 2px rgba(60, 64, 67, 0.3), 0 1px 3px 1px rgba(60, 64, 67, 0.15);\n",
              "    fill: var(--button-hover-fill-color);\n",
              "  }\n",
              "\n",
              "  .colab-df-quickchart-complete:disabled,\n",
              "  .colab-df-quickchart-complete:disabled:hover {\n",
              "    background-color: var(--disabled-bg-color);\n",
              "    fill: var(--disabled-fill-color);\n",
              "    box-shadow: none;\n",
              "  }\n",
              "\n",
              "  .colab-df-spinner {\n",
              "    border: 2px solid var(--fill-color);\n",
              "    border-color: transparent;\n",
              "    border-bottom-color: var(--fill-color);\n",
              "    animation:\n",
              "      spin 1s steps(1) infinite;\n",
              "  }\n",
              "\n",
              "  @keyframes spin {\n",
              "    0% {\n",
              "      border-color: transparent;\n",
              "      border-bottom-color: var(--fill-color);\n",
              "      border-left-color: var(--fill-color);\n",
              "    }\n",
              "    20% {\n",
              "      border-color: transparent;\n",
              "      border-left-color: var(--fill-color);\n",
              "      border-top-color: var(--fill-color);\n",
              "    }\n",
              "    30% {\n",
              "      border-color: transparent;\n",
              "      border-left-color: var(--fill-color);\n",
              "      border-top-color: var(--fill-color);\n",
              "      border-right-color: var(--fill-color);\n",
              "    }\n",
              "    40% {\n",
              "      border-color: transparent;\n",
              "      border-right-color: var(--fill-color);\n",
              "      border-top-color: var(--fill-color);\n",
              "    }\n",
              "    60% {\n",
              "      border-color: transparent;\n",
              "      border-right-color: var(--fill-color);\n",
              "    }\n",
              "    80% {\n",
              "      border-color: transparent;\n",
              "      border-right-color: var(--fill-color);\n",
              "      border-bottom-color: var(--fill-color);\n",
              "    }\n",
              "    90% {\n",
              "      border-color: transparent;\n",
              "      border-bottom-color: var(--fill-color);\n",
              "    }\n",
              "  }\n",
              "</style>\n",
              "\n",
              "  <script>\n",
              "    async function quickchart(key) {\n",
              "      const quickchartButtonEl =\n",
              "        document.querySelector('#' + key + ' button');\n",
              "      quickchartButtonEl.disabled = true;  // To prevent multiple clicks.\n",
              "      quickchartButtonEl.classList.add('colab-df-spinner');\n",
              "      try {\n",
              "        const charts = await google.colab.kernel.invokeFunction(\n",
              "            'suggestCharts', [key], {});\n",
              "      } catch (error) {\n",
              "        console.error('Error during call to suggestCharts:', error);\n",
              "      }\n",
              "      quickchartButtonEl.classList.remove('colab-df-spinner');\n",
              "      quickchartButtonEl.classList.add('colab-df-quickchart-complete');\n",
              "    }\n",
              "    (() => {\n",
              "      let quickchartButtonEl =\n",
              "        document.querySelector('#df-a148ee15-2ba9-40ce-8f97-2154bd24da0a button');\n",
              "      quickchartButtonEl.style.display =\n",
              "        google.colab.kernel.accessAllowed ? 'block' : 'none';\n",
              "    })();\n",
              "  </script>\n",
              "</div>\n",
              "\n",
              "  <div id=\"id_ea4d293d-4005-4730-aa12-66bdbdcbd688\">\n",
              "    <style>\n",
              "      .colab-df-generate {\n",
              "        background-color: #E8F0FE;\n",
              "        border: none;\n",
              "        border-radius: 50%;\n",
              "        cursor: pointer;\n",
              "        display: none;\n",
              "        fill: #1967D2;\n",
              "        height: 32px;\n",
              "        padding: 0 0 0 0;\n",
              "        width: 32px;\n",
              "      }\n",
              "\n",
              "      .colab-df-generate:hover {\n",
              "        background-color: #E2EBFA;\n",
              "        box-shadow: 0px 1px 2px rgba(60, 64, 67, 0.3), 0px 1px 3px 1px rgba(60, 64, 67, 0.15);\n",
              "        fill: #174EA6;\n",
              "      }\n",
              "\n",
              "      [theme=dark] .colab-df-generate {\n",
              "        background-color: #3B4455;\n",
              "        fill: #D2E3FC;\n",
              "      }\n",
              "\n",
              "      [theme=dark] .colab-df-generate:hover {\n",
              "        background-color: #434B5C;\n",
              "        box-shadow: 0px 1px 3px 1px rgba(0, 0, 0, 0.15);\n",
              "        filter: drop-shadow(0px 1px 2px rgba(0, 0, 0, 0.3));\n",
              "        fill: #FFFFFF;\n",
              "      }\n",
              "    </style>\n",
              "    <button class=\"colab-df-generate\" onclick=\"generateWithVariable('df1')\"\n",
              "            title=\"Generate code using this dataframe.\"\n",
              "            style=\"display:none;\">\n",
              "\n",
              "  <svg xmlns=\"http://www.w3.org/2000/svg\" height=\"24px\"viewBox=\"0 0 24 24\"\n",
              "       width=\"24px\">\n",
              "    <path d=\"M7,19H8.4L18.45,9,17,7.55,7,17.6ZM5,21V16.75L18.45,3.32a2,2,0,0,1,2.83,0l1.4,1.43a1.91,1.91,0,0,1,.58,1.4,1.91,1.91,0,0,1-.58,1.4L9.25,21ZM18.45,9,17,7.55Zm-12,3A5.31,5.31,0,0,0,4.9,8.1,5.31,5.31,0,0,0,1,6.5,5.31,5.31,0,0,0,4.9,4.9,5.31,5.31,0,0,0,6.5,1,5.31,5.31,0,0,0,8.1,4.9,5.31,5.31,0,0,0,12,6.5,5.46,5.46,0,0,0,6.5,12Z\"/>\n",
              "  </svg>\n",
              "    </button>\n",
              "    <script>\n",
              "      (() => {\n",
              "      const buttonEl =\n",
              "        document.querySelector('#id_ea4d293d-4005-4730-aa12-66bdbdcbd688 button.colab-df-generate');\n",
              "      buttonEl.style.display =\n",
              "        google.colab.kernel.accessAllowed ? 'block' : 'none';\n",
              "\n",
              "      buttonEl.onclick = () => {\n",
              "        google.colab.notebook.generateWithVariable('df1');\n",
              "      }\n",
              "      })();\n",
              "    </script>\n",
              "  </div>\n",
              "\n",
              "    </div>\n",
              "  </div>\n"
            ]
          },
          "metadata": {},
          "execution_count": 126
        }
      ]
    },
    {
      "cell_type": "markdown",
      "metadata": {
        "id": "a-_FnobDyVdM"
      },
      "source": [
        "You can get a list of the column headers or row headers by simply asking for them, as seen in the code below."
      ]
    },
    {
      "cell_type": "code",
      "metadata": {
        "id": "Gd-bHWNPlzrO",
        "colab": {
          "base_uri": "https://localhost:8080/"
        },
        "outputId": "985cda6f-f873-4431-d615-89fb495ea0a9"
      },
      "source": [
        "cols = list(clinical_dataframe.columns)\n",
        "print(cols)\n",
        "rows = list(clinical_dataframe.index)\n",
        "print(rows)\n",
        "print(len(rows))"
      ],
      "execution_count": null,
      "outputs": [
        {
          "output_type": "stream",
          "name": "stdout",
          "text": [
            "['Sample_ID', 'Sample_Tumor_Normal', 'Proteomics_Tumor_Normal', 'Country', 'Histologic_Grade_FIGO', 'Myometrial_invasion_Specify', 'Histologic_type', 'Treatment_naive', 'Tumor_purity', 'Path_Stage_Primary_Tumor-pT', 'Path_Stage_Reg_Lymph_Nodes-pN', 'Clin_Stage_Dist_Mets-cM', 'Path_Stage_Dist_Mets-pM', 'tumor_Stage-Pathological', 'FIGO_stage', 'LVSI', 'BMI', 'Age', 'Diabetes', 'Race', 'Ethnicity', 'Gender', 'Tumor_Site', 'Tumor_Site_Other', 'Tumor_Focality', 'Tumor_Size_cm', 'Num_full_term_pregnancies']\n",
            "['C3L-00006', 'C3L-00008', 'C3L-00032', 'C3L-00090', 'C3L-00098', 'C3L-00136', 'C3L-00137', 'C3L-00139', 'C3L-00143', 'C3L-00145', 'C3L-00156', 'C3L-00161', 'C3L-00358', 'C3L-00361', 'C3L-00362', 'C3L-00413', 'C3L-00449', 'C3L-00563', 'C3L-00586', 'C3L-00601', 'C3L-00605', 'C3L-00767', 'C3L-00769', 'C3L-00770', 'C3L-00771', 'C3L-00780', 'C3L-00781', 'C3L-00905', 'C3L-00918', 'C3L-00921', 'C3L-00932', 'C3L-00942', 'C3L-00946', 'C3L-00947', 'C3L-00949', 'C3L-00961', 'C3L-00963', 'C3L-01246', 'C3L-01248', 'C3L-01249', 'C3L-01252', 'C3L-01256', 'C3L-01257', 'C3L-01275', 'C3L-01282', 'C3L-01304', 'C3L-01307', 'C3L-01311', 'C3L-01312', 'C3L-01744', 'C3L-01925', 'C3N-00151', 'C3N-00200', 'C3N-00321', 'C3N-00322', 'C3N-00323', 'C3N-00324', 'C3N-00326', 'C3N-00328', 'C3N-00333', 'C3N-00334', 'C3N-00335', 'C3N-00337', 'C3N-00339', 'C3N-00340', 'C3N-00377', 'C3N-00379', 'C3N-00383', 'C3N-00386', 'C3N-00388', 'C3N-00389', 'C3N-00729', 'C3N-00734', 'C3N-00743', 'C3N-00836', 'C3N-00847', 'C3N-00848', 'C3N-00850', 'C3N-00858', 'C3N-00866', 'C3N-00880', 'C3N-01003', 'C3N-01211', 'C3N-01212', 'C3N-01217', 'C3N-01219', 'C3N-01267', 'C3N-01346', 'C3N-01349', 'C3N-01510', 'C3N-01520', 'C3N-01521', 'C3N-01537', 'C3N-01802', 'C3N-01825', 'C3L-00006.N', 'C3L-00361.N', 'C3L-00563.N', 'C3L-00586.N', 'C3L-00601.N', 'C3L-00605.N', 'C3L-00769.N', 'C3L-00770.N', 'C3L-00771.N', 'C3L-00930.N', 'C3L-00932.N', 'C3L-00947.N', 'C3L-00963.N', 'C3L-01246.N', 'C3L-01249.N', 'C3L-01252.N', 'C3L-01256.N', 'C3L-01257.N', 'C3L-01282.N', 'C3L-01304.N', 'C3L-01307.N', 'C3L-01311.N', 'C3L-01744.N', 'C3N-00200.N', 'C3N-00333.N', 'C3N-00383.N', 'C3N-00729.N', 'C3N-00858.N', 'C3N-00866.N', 'C3N-01211.N', 'C3N-01346.N', 'NX1.N', 'NX10.N', 'NX11.N', 'NX12.N', 'NX13.N', 'NX14.N', 'NX15.N', 'NX16.N', 'NX17.N', 'NX18.N', 'NX2.N', 'NX3.N', 'NX4.N', 'NX5.N', 'NX6.N', 'NX7.N', 'NX8.N', 'NX9.N']\n",
            "144\n"
          ]
        }
      ]
    },
    {
      "cell_type": "markdown",
      "metadata": {
        "id": "P3nm8niE1tv8"
      },
      "source": [
        "##PRACTICE PROBLEMS\n",
        "1. How many cancer types are in the cptac package?\n",
        "\n"
      ]
    },
    {
      "cell_type": "code",
      "metadata": {
        "id": "5z3lxvxmwtXC",
        "colab": {
          "base_uri": "https://localhost:8080/"
        },
        "outputId": "e288f5cf-260b-4905-86d3-673db18392bb"
      },
      "source": [
        "###       Question 1         ###\n",
        "#  How many cancer types are in the cptac package?\n",
        "#  You should derive your answer with coding, not any shortcuts.\n",
        "\n",
        "###      Your code here      ###\n",
        "df = cptac.list_datasets()\n",
        "cancer_types = list(df['Description'])\n",
        "print(cancer_types)\n",
        "answer_1 = len(cancer_types)"
      ],
      "execution_count": null,
      "outputs": [
        {
          "output_type": "stream",
          "name": "stdout",
          "text": [
            "['breast cancer', 'clear cell renal cell carcinoma (kidney)', 'colorectal cancer', 'endometrial carcinoma (uterine)', 'glioblastoma', 'head and neck squamous cell carcinoma', 'lung squamous cell carcinoma', 'lung adenocarcinoma', 'high grade serous ovarian cancer', 'pancreatic ductal adenocarcinoma', 'endometrial confirmatory carcinoma', 'glioblastoma confirmatory']\n"
          ]
        }
      ]
    },
    {
      "cell_type": "code",
      "metadata": {
        "id": "VxW4hI0uwtMx",
        "colab": {
          "base_uri": "https://localhost:8080/"
        },
        "outputId": "ce3204bc-9b86-4a99-e43a-a703ccbed700"
      },
      "source": [
        "###  Question 1: Submitting the answer   ###\n",
        "# To submit, your code above should have created a variable 'answer_1'.\n",
        "result = hw.submit(question = 1, answer = answer_1)\n",
        "print(result)"
      ],
      "execution_count": null,
      "outputs": [
        {
          "output_type": "stream",
          "name": "stdout",
          "text": [
            "True\n"
          ]
        }
      ]
    },
    {
      "cell_type": "code",
      "metadata": {
        "id": "hoZp5EuWwsx-"
      },
      "source": [
        "### Question 1: Getting help ###\n",
        "hints = hw.getHint(question=1)\n",
        "print(hints)"
      ],
      "execution_count": null,
      "outputs": []
    },
    {
      "cell_type": "markdown",
      "metadata": {
        "id": "kuzKsmjEwqzG"
      },
      "source": [
        "2. How many patients are in our endometrial cohort?"
      ]
    },
    {
      "cell_type": "code",
      "metadata": {
        "id": "53Iy3t4CsyX2",
        "colab": {
          "base_uri": "https://localhost:8080/"
        },
        "outputId": "2d6e8be3-2a8c-4d1c-84f0-6f2e0e390350"
      },
      "source": [
        "###       Question 2         ###\n",
        "#  How many patients are in our endometrial cohort?\n",
        "#  You should derive your answer with coding, not any shortcuts.\n",
        "\n",
        "###      Your code here      ###\n",
        "print(clinical_dataframe.info())\n",
        "answer_2 = len(clinical_dataframe['Sample_ID'])"
      ],
      "execution_count": null,
      "outputs": [
        {
          "output_type": "stream",
          "name": "stdout",
          "text": [
            "<class 'pandas.core.frame.DataFrame'>\n",
            "Index: 144 entries, C3L-00006 to NX9.N\n",
            "Data columns (total 27 columns):\n",
            " #   Column                         Non-Null Count  Dtype  \n",
            "---  ------                         --------------  -----  \n",
            " 0   Sample_ID                      144 non-null    object \n",
            " 1   Sample_Tumor_Normal            144 non-null    object \n",
            " 2   Proteomics_Tumor_Normal        144 non-null    object \n",
            " 3   Country                        95 non-null     object \n",
            " 4   Histologic_Grade_FIGO          83 non-null     object \n",
            " 5   Myometrial_invasion_Specify    95 non-null     object \n",
            " 6   Histologic_type                95 non-null     object \n",
            " 7   Treatment_naive                95 non-null     object \n",
            " 8   Tumor_purity                   95 non-null     object \n",
            " 9   Path_Stage_Primary_Tumor-pT    95 non-null     object \n",
            " 10  Path_Stage_Reg_Lymph_Nodes-pN  95 non-null     object \n",
            " 11  Clin_Stage_Dist_Mets-cM        95 non-null     object \n",
            " 12  Path_Stage_Dist_Mets-pM        95 non-null     object \n",
            " 13  tumor_Stage-Pathological       95 non-null     object \n",
            " 14  FIGO_stage                     95 non-null     object \n",
            " 15  LVSI                           93 non-null     float64\n",
            " 16  BMI                            95 non-null     float64\n",
            " 17  Age                            95 non-null     float64\n",
            " 18  Diabetes                       94 non-null     object \n",
            " 19  Race                           58 non-null     object \n",
            " 20  Ethnicity                      58 non-null     object \n",
            " 21  Gender                         95 non-null     object \n",
            " 22  Tumor_Site                     95 non-null     object \n",
            " 23  Tumor_Site_Other               70 non-null     object \n",
            " 24  Tumor_Focality                 95 non-null     object \n",
            " 25  Tumor_Size_cm                  94 non-null     float64\n",
            " 26  Num_full_term_pregnancies      95 non-null     object \n",
            "dtypes: float64(4), object(23)\n",
            "memory usage: 35.6+ KB\n",
            "None\n"
          ]
        }
      ]
    },
    {
      "cell_type": "code",
      "metadata": {
        "id": "eyYmY1yexujo",
        "colab": {
          "base_uri": "https://localhost:8080/"
        },
        "outputId": "6b88a6bf-2a45-42e3-8790-79099bcbf91f"
      },
      "source": [
        "###  Question 2: Submitting the answer   ###\n",
        "# To submit, your code above should have created a variable 'answer_2'.\n",
        "result = hw.submit(question = 2, answer = answer_2)\n",
        "print(result)"
      ],
      "execution_count": null,
      "outputs": [
        {
          "output_type": "stream",
          "name": "stdout",
          "text": [
            "True\n"
          ]
        }
      ]
    },
    {
      "cell_type": "code",
      "metadata": {
        "id": "gvADhgizxwnn"
      },
      "source": [
        "### Question 2: Getting help ###\n",
        "hints = hw.getHint(question=2)\n",
        "print(hints)"
      ],
      "execution_count": null,
      "outputs": []
    },
    {
      "cell_type": "markdown",
      "metadata": {
        "id": "MIF8ummMpRAT"
      },
      "source": [
        "# Part 2. Some simple select statements\n",
        "A dataframe is a spreadsheet-like variable. Often when we are working with it, we want to pull out a subset of information for convenience. You can think of this as similar to 'slicing' a Python list.\n",
        "\n",
        "Let's practice how to get to parts of the table. We will start by first asking for a single column, the one with the cancer stage for each patient. Then in the next code block, we'll slice out three columns: cancer stage, body mass index, and age."
      ]
    },
    {
      "cell_type": "code",
      "metadata": {
        "id": "8knm7WYepYce",
        "colab": {
          "base_uri": "https://localhost:8080/"
        },
        "outputId": "876efe68-8017-407a-811c-341c9fd57bb7"
      },
      "source": [
        "cancer_stage_df = clinical_dataframe['FIGO_stage'] #'df' is a common abbreviation for dataframe.\n",
        "cancer_stage_df.head()"
      ],
      "execution_count": null,
      "outputs": [
        {
          "output_type": "execute_result",
          "data": {
            "text/plain": [
              "Patient_ID\n",
              "C3L-00006    IA\n",
              "C3L-00008    IA\n",
              "C3L-00032    IA\n",
              "C3L-00090    IA\n",
              "C3L-00098    IA\n",
              "Name: FIGO_stage, dtype: object"
            ]
          },
          "metadata": {},
          "execution_count": 51
        }
      ]
    },
    {
      "cell_type": "markdown",
      "metadata": {
        "id": "xb2N23EJ01RQ"
      },
      "source": [
        "Remember that when you slice a list, you get back a list.  When you slice a dataframe, you get back a dataframe."
      ]
    },
    {
      "cell_type": "code",
      "metadata": {
        "id": "w_iqyHi_piYP",
        "colab": {
          "base_uri": "https://localhost:8080/",
          "height": 238
        },
        "outputId": "c9ffe88e-fe1c-4ba3-f7ce-c2b37805514e"
      },
      "source": [
        "#When you want to slice out more than one column from a dataframe, you pass in the\n",
        "#list of the column names that you want. That's why you see the double bracket.\n",
        "three_columns_df = clinical_dataframe[['FIGO_stage', 'BMI', 'Age']]\n",
        "three_columns_df.head()"
      ],
      "execution_count": null,
      "outputs": [
        {
          "output_type": "execute_result",
          "data": {
            "text/plain": [
              "Name       FIGO_stage    BMI   Age\n",
              "Patient_ID                        \n",
              "C3L-00006          IA  38.88  64.0\n",
              "C3L-00008          IA  39.76  58.0\n",
              "C3L-00032          IA  51.19  50.0\n",
              "C3L-00090          IA  32.69  75.0\n",
              "C3L-00098          IA  20.28  63.0"
            ],
            "text/html": [
              "\n",
              "  <div id=\"df-ce6ad11b-492e-474c-917e-46ca11490d95\" class=\"colab-df-container\">\n",
              "    <div>\n",
              "<style scoped>\n",
              "    .dataframe tbody tr th:only-of-type {\n",
              "        vertical-align: middle;\n",
              "    }\n",
              "\n",
              "    .dataframe tbody tr th {\n",
              "        vertical-align: top;\n",
              "    }\n",
              "\n",
              "    .dataframe thead th {\n",
              "        text-align: right;\n",
              "    }\n",
              "</style>\n",
              "<table border=\"1\" class=\"dataframe\">\n",
              "  <thead>\n",
              "    <tr style=\"text-align: right;\">\n",
              "      <th>Name</th>\n",
              "      <th>FIGO_stage</th>\n",
              "      <th>BMI</th>\n",
              "      <th>Age</th>\n",
              "    </tr>\n",
              "    <tr>\n",
              "      <th>Patient_ID</th>\n",
              "      <th></th>\n",
              "      <th></th>\n",
              "      <th></th>\n",
              "    </tr>\n",
              "  </thead>\n",
              "  <tbody>\n",
              "    <tr>\n",
              "      <th>C3L-00006</th>\n",
              "      <td>IA</td>\n",
              "      <td>38.88</td>\n",
              "      <td>64.0</td>\n",
              "    </tr>\n",
              "    <tr>\n",
              "      <th>C3L-00008</th>\n",
              "      <td>IA</td>\n",
              "      <td>39.76</td>\n",
              "      <td>58.0</td>\n",
              "    </tr>\n",
              "    <tr>\n",
              "      <th>C3L-00032</th>\n",
              "      <td>IA</td>\n",
              "      <td>51.19</td>\n",
              "      <td>50.0</td>\n",
              "    </tr>\n",
              "    <tr>\n",
              "      <th>C3L-00090</th>\n",
              "      <td>IA</td>\n",
              "      <td>32.69</td>\n",
              "      <td>75.0</td>\n",
              "    </tr>\n",
              "    <tr>\n",
              "      <th>C3L-00098</th>\n",
              "      <td>IA</td>\n",
              "      <td>20.28</td>\n",
              "      <td>63.0</td>\n",
              "    </tr>\n",
              "  </tbody>\n",
              "</table>\n",
              "</div>\n",
              "    <div class=\"colab-df-buttons\">\n",
              "\n",
              "  <div class=\"colab-df-container\">\n",
              "    <button class=\"colab-df-convert\" onclick=\"convertToInteractive('df-ce6ad11b-492e-474c-917e-46ca11490d95')\"\n",
              "            title=\"Convert this dataframe to an interactive table.\"\n",
              "            style=\"display:none;\">\n",
              "\n",
              "  <svg xmlns=\"http://www.w3.org/2000/svg\" height=\"24px\" viewBox=\"0 -960 960 960\">\n",
              "    <path d=\"M120-120v-720h720v720H120Zm60-500h600v-160H180v160Zm220 220h160v-160H400v160Zm0 220h160v-160H400v160ZM180-400h160v-160H180v160Zm440 0h160v-160H620v160ZM180-180h160v-160H180v160Zm440 0h160v-160H620v160Z\"/>\n",
              "  </svg>\n",
              "    </button>\n",
              "\n",
              "  <style>\n",
              "    .colab-df-container {\n",
              "      display:flex;\n",
              "      gap: 12px;\n",
              "    }\n",
              "\n",
              "    .colab-df-convert {\n",
              "      background-color: #E8F0FE;\n",
              "      border: none;\n",
              "      border-radius: 50%;\n",
              "      cursor: pointer;\n",
              "      display: none;\n",
              "      fill: #1967D2;\n",
              "      height: 32px;\n",
              "      padding: 0 0 0 0;\n",
              "      width: 32px;\n",
              "    }\n",
              "\n",
              "    .colab-df-convert:hover {\n",
              "      background-color: #E2EBFA;\n",
              "      box-shadow: 0px 1px 2px rgba(60, 64, 67, 0.3), 0px 1px 3px 1px rgba(60, 64, 67, 0.15);\n",
              "      fill: #174EA6;\n",
              "    }\n",
              "\n",
              "    .colab-df-buttons div {\n",
              "      margin-bottom: 4px;\n",
              "    }\n",
              "\n",
              "    [theme=dark] .colab-df-convert {\n",
              "      background-color: #3B4455;\n",
              "      fill: #D2E3FC;\n",
              "    }\n",
              "\n",
              "    [theme=dark] .colab-df-convert:hover {\n",
              "      background-color: #434B5C;\n",
              "      box-shadow: 0px 1px 3px 1px rgba(0, 0, 0, 0.15);\n",
              "      filter: drop-shadow(0px 1px 2px rgba(0, 0, 0, 0.3));\n",
              "      fill: #FFFFFF;\n",
              "    }\n",
              "  </style>\n",
              "\n",
              "    <script>\n",
              "      const buttonEl =\n",
              "        document.querySelector('#df-ce6ad11b-492e-474c-917e-46ca11490d95 button.colab-df-convert');\n",
              "      buttonEl.style.display =\n",
              "        google.colab.kernel.accessAllowed ? 'block' : 'none';\n",
              "\n",
              "      async function convertToInteractive(key) {\n",
              "        const element = document.querySelector('#df-ce6ad11b-492e-474c-917e-46ca11490d95');\n",
              "        const dataTable =\n",
              "          await google.colab.kernel.invokeFunction('convertToInteractive',\n",
              "                                                    [key], {});\n",
              "        if (!dataTable) return;\n",
              "\n",
              "        const docLinkHtml = 'Like what you see? Visit the ' +\n",
              "          '<a target=\"_blank\" href=https://colab.research.google.com/notebooks/data_table.ipynb>data table notebook</a>'\n",
              "          + ' to learn more about interactive tables.';\n",
              "        element.innerHTML = '';\n",
              "        dataTable['output_type'] = 'display_data';\n",
              "        await google.colab.output.renderOutput(dataTable, element);\n",
              "        const docLink = document.createElement('div');\n",
              "        docLink.innerHTML = docLinkHtml;\n",
              "        element.appendChild(docLink);\n",
              "      }\n",
              "    </script>\n",
              "  </div>\n",
              "\n",
              "\n",
              "<div id=\"df-fde62ae4-55cf-4152-b1b8-c4ccba2c178f\">\n",
              "  <button class=\"colab-df-quickchart\" onclick=\"quickchart('df-fde62ae4-55cf-4152-b1b8-c4ccba2c178f')\"\n",
              "            title=\"Suggest charts\"\n",
              "            style=\"display:none;\">\n",
              "\n",
              "<svg xmlns=\"http://www.w3.org/2000/svg\" height=\"24px\"viewBox=\"0 0 24 24\"\n",
              "     width=\"24px\">\n",
              "    <g>\n",
              "        <path d=\"M19 3H5c-1.1 0-2 .9-2 2v14c0 1.1.9 2 2 2h14c1.1 0 2-.9 2-2V5c0-1.1-.9-2-2-2zM9 17H7v-7h2v7zm4 0h-2V7h2v10zm4 0h-2v-4h2v4z\"/>\n",
              "    </g>\n",
              "</svg>\n",
              "  </button>\n",
              "\n",
              "<style>\n",
              "  .colab-df-quickchart {\n",
              "      --bg-color: #E8F0FE;\n",
              "      --fill-color: #1967D2;\n",
              "      --hover-bg-color: #E2EBFA;\n",
              "      --hover-fill-color: #174EA6;\n",
              "      --disabled-fill-color: #AAA;\n",
              "      --disabled-bg-color: #DDD;\n",
              "  }\n",
              "\n",
              "  [theme=dark] .colab-df-quickchart {\n",
              "      --bg-color: #3B4455;\n",
              "      --fill-color: #D2E3FC;\n",
              "      --hover-bg-color: #434B5C;\n",
              "      --hover-fill-color: #FFFFFF;\n",
              "      --disabled-bg-color: #3B4455;\n",
              "      --disabled-fill-color: #666;\n",
              "  }\n",
              "\n",
              "  .colab-df-quickchart {\n",
              "    background-color: var(--bg-color);\n",
              "    border: none;\n",
              "    border-radius: 50%;\n",
              "    cursor: pointer;\n",
              "    display: none;\n",
              "    fill: var(--fill-color);\n",
              "    height: 32px;\n",
              "    padding: 0;\n",
              "    width: 32px;\n",
              "  }\n",
              "\n",
              "  .colab-df-quickchart:hover {\n",
              "    background-color: var(--hover-bg-color);\n",
              "    box-shadow: 0 1px 2px rgba(60, 64, 67, 0.3), 0 1px 3px 1px rgba(60, 64, 67, 0.15);\n",
              "    fill: var(--button-hover-fill-color);\n",
              "  }\n",
              "\n",
              "  .colab-df-quickchart-complete:disabled,\n",
              "  .colab-df-quickchart-complete:disabled:hover {\n",
              "    background-color: var(--disabled-bg-color);\n",
              "    fill: var(--disabled-fill-color);\n",
              "    box-shadow: none;\n",
              "  }\n",
              "\n",
              "  .colab-df-spinner {\n",
              "    border: 2px solid var(--fill-color);\n",
              "    border-color: transparent;\n",
              "    border-bottom-color: var(--fill-color);\n",
              "    animation:\n",
              "      spin 1s steps(1) infinite;\n",
              "  }\n",
              "\n",
              "  @keyframes spin {\n",
              "    0% {\n",
              "      border-color: transparent;\n",
              "      border-bottom-color: var(--fill-color);\n",
              "      border-left-color: var(--fill-color);\n",
              "    }\n",
              "    20% {\n",
              "      border-color: transparent;\n",
              "      border-left-color: var(--fill-color);\n",
              "      border-top-color: var(--fill-color);\n",
              "    }\n",
              "    30% {\n",
              "      border-color: transparent;\n",
              "      border-left-color: var(--fill-color);\n",
              "      border-top-color: var(--fill-color);\n",
              "      border-right-color: var(--fill-color);\n",
              "    }\n",
              "    40% {\n",
              "      border-color: transparent;\n",
              "      border-right-color: var(--fill-color);\n",
              "      border-top-color: var(--fill-color);\n",
              "    }\n",
              "    60% {\n",
              "      border-color: transparent;\n",
              "      border-right-color: var(--fill-color);\n",
              "    }\n",
              "    80% {\n",
              "      border-color: transparent;\n",
              "      border-right-color: var(--fill-color);\n",
              "      border-bottom-color: var(--fill-color);\n",
              "    }\n",
              "    90% {\n",
              "      border-color: transparent;\n",
              "      border-bottom-color: var(--fill-color);\n",
              "    }\n",
              "  }\n",
              "</style>\n",
              "\n",
              "  <script>\n",
              "    async function quickchart(key) {\n",
              "      const quickchartButtonEl =\n",
              "        document.querySelector('#' + key + ' button');\n",
              "      quickchartButtonEl.disabled = true;  // To prevent multiple clicks.\n",
              "      quickchartButtonEl.classList.add('colab-df-spinner');\n",
              "      try {\n",
              "        const charts = await google.colab.kernel.invokeFunction(\n",
              "            'suggestCharts', [key], {});\n",
              "      } catch (error) {\n",
              "        console.error('Error during call to suggestCharts:', error);\n",
              "      }\n",
              "      quickchartButtonEl.classList.remove('colab-df-spinner');\n",
              "      quickchartButtonEl.classList.add('colab-df-quickchart-complete');\n",
              "    }\n",
              "    (() => {\n",
              "      let quickchartButtonEl =\n",
              "        document.querySelector('#df-fde62ae4-55cf-4152-b1b8-c4ccba2c178f button');\n",
              "      quickchartButtonEl.style.display =\n",
              "        google.colab.kernel.accessAllowed ? 'block' : 'none';\n",
              "    })();\n",
              "  </script>\n",
              "</div>\n",
              "\n",
              "    </div>\n",
              "  </div>\n"
            ]
          },
          "metadata": {},
          "execution_count": 52
        }
      ]
    },
    {
      "cell_type": "markdown",
      "metadata": {
        "id": "Cwj_sR4GE-Mm"
      },
      "source": [
        "As mentioned before, a dataframe is a spreadsheet-like datatype. It's a collection of data. Just like a 'list' datatype has some built in functionality, dataframes also have some nice functionality. Here we show just a few of these, like doing math on a column of data."
      ]
    },
    {
      "cell_type": "code",
      "metadata": {
        "id": "b0-QBA6MEfr_",
        "colab": {
          "base_uri": "https://localhost:8080/"
        },
        "outputId": "94ac9b7e-0597-479b-a84e-538d3f85d54b"
      },
      "source": [
        "average_age = clinical_dataframe['Age'].mean()\n",
        "max_age = clinical_dataframe['Age'].max()\n",
        "min_age = clinical_dataframe['Age'].min()\n",
        "print(\"Age: min {:.1f}, average {:.1f}, max {:.1f} \".format(min_age, average_age, max_age))\n",
        "print(f\"Age: min {min_age}, average {average_age:.2f}, max {max_age}\")"
      ],
      "execution_count": null,
      "outputs": [
        {
          "output_type": "stream",
          "name": "stdout",
          "text": [
            "Age: min 38.0, average 63.5, max 90.0 \n",
            "Age: min 38.0, average 63.47, max 90.0\n"
          ]
        }
      ]
    },
    {
      "cell_type": "markdown",
      "metadata": {
        "id": "bDqlJEUhKbs7"
      },
      "source": [
        "We can also ask a dataframe how many different answers are in a column or how many of each kind of answer there are. Here we ask how many different tumor stages are in our dataframe, and how many patients for each stage."
      ]
    },
    {
      "cell_type": "code",
      "metadata": {
        "id": "2YsWtTZwGgCD",
        "colab": {
          "base_uri": "https://localhost:8080/"
        },
        "outputId": "e2970054-0669-4a5b-e9bb-bc892f5137f0"
      },
      "source": [
        "stages = clinical_dataframe['FIGO_stage'].unique()\n",
        "print(stages)"
      ],
      "execution_count": null,
      "outputs": [
        {
          "output_type": "stream",
          "name": "stdout",
          "text": [
            "['IA' 'IIIA' 'IB' 'II' 'IIIC2' 'IIIC1' 'IVB' 'IIIB' nan]\n"
          ]
        }
      ]
    },
    {
      "cell_type": "code",
      "metadata": {
        "id": "BZYU2Q6rL_Hu",
        "colab": {
          "base_uri": "https://localhost:8080/"
        },
        "outputId": "96839a8f-4d19-46bd-fc79-b3e58891ff19"
      },
      "source": [
        "counts = clinical_dataframe['FIGO_stage'].value_counts()\n",
        "print(counts)"
      ],
      "execution_count": null,
      "outputs": [
        {
          "output_type": "stream",
          "name": "stdout",
          "text": [
            "IA       56\n",
            "IB       15\n",
            "II        8\n",
            "IIIA      6\n",
            "IIIC1     4\n",
            "IVB       3\n",
            "IIIC2     2\n",
            "IIIB      1\n",
            "Name: FIGO_stage, dtype: int64\n"
          ]
        }
      ]
    },
    {
      "cell_type": "markdown",
      "metadata": {
        "id": "C7HzVr2jp5hM"
      },
      "source": [
        "Now let's work with row selection. Remember that in our dataframe, a row is an individual patient. Below is how you slice out a single row. You notice that we use the .loc function. This is how you differentiate it from a column selection."
      ]
    },
    {
      "cell_type": "code",
      "metadata": {
        "id": "2Xvfnm9yp4Rf",
        "colab": {
          "base_uri": "https://localhost:8080/"
        },
        "outputId": "b93f2eac-dd0c-4609-c92c-ceec1b9d22e0"
      },
      "source": [
        "patient_A = clinical_dataframe.loc['C3L-00006']\n",
        "patient_A #This is the simplified way of printing a whole dataframe.\n",
        "#Note how since this is a single row, it is printed a bit funny."
      ],
      "execution_count": null,
      "outputs": [
        {
          "output_type": "execute_result",
          "data": {
            "text/plain": [
              "Name\n",
              "Sample_ID                                          S001\n",
              "Sample_Tumor_Normal                               Tumor\n",
              "Proteomics_Tumor_Normal                           Tumor\n",
              "Country                                   United States\n",
              "Histologic_Grade_FIGO                      FIGO grade 1\n",
              "Myometrial_invasion_Specify                  under 50 %\n",
              "Histologic_type                            Endometrioid\n",
              "Treatment_naive                                     YES\n",
              "Tumor_purity                                     Normal\n",
              "Path_Stage_Primary_Tumor-pT              pT1a (FIGO IA)\n",
              "Path_Stage_Reg_Lymph_Nodes-pN                       pN0\n",
              "Clin_Stage_Dist_Mets-cM                             cM0\n",
              "Path_Stage_Dist_Mets-pM              Staging Incomplete\n",
              "tumor_Stage-Pathological                        Stage I\n",
              "FIGO_stage                                           IA\n",
              "LVSI                                                1.0\n",
              "BMI                                               38.88\n",
              "Age                                                64.0\n",
              "Diabetes                                             No\n",
              "Race                                              White\n",
              "Ethnicity                        Not-Hispanic or Latino\n",
              "Gender                                           Female\n",
              "Tumor_Site                         Anterior endometrium\n",
              "Tumor_Site_Other                                    NaN\n",
              "Tumor_Focality                                 Unifocal\n",
              "Tumor_Size_cm                                       2.9\n",
              "Num_full_term_pregnancies                             1\n",
              "Name: C3L-00006, dtype: object"
            ]
          },
          "metadata": {},
          "execution_count": 57
        }
      ]
    },
    {
      "cell_type": "code",
      "metadata": {
        "id": "MX63I3kCqpPS",
        "colab": {
          "base_uri": "https://localhost:8080/"
        },
        "outputId": "77ad74e1-1998-4d63-9751-d93e8f78408a"
      },
      "source": [
        "three_patients = clinical_dataframe.loc[['C3L-00006', 'C3L-00008', 'C3L-00032']]\n",
        "three_patients #Here we are not using the 'print' function, because we can see the whole dataframe this way.\n",
        "#Test out calling 'print(three_patients)' if you want to see the difference.\n",
        "\n",
        "print(three_patients)"
      ],
      "execution_count": null,
      "outputs": [
        {
          "output_type": "stream",
          "name": "stdout",
          "text": [
            "Name       Sample_ID Sample_Tumor_Normal Proteomics_Tumor_Normal  \\\n",
            "Patient_ID                                                         \n",
            "C3L-00006       S001               Tumor                   Tumor   \n",
            "C3L-00008       S002               Tumor                   Tumor   \n",
            "C3L-00032       S003               Tumor                   Tumor   \n",
            "\n",
            "Name              Country Histologic_Grade_FIGO Myometrial_invasion_Specify  \\\n",
            "Patient_ID                                                                    \n",
            "C3L-00006   United States          FIGO grade 1                  under 50 %   \n",
            "C3L-00008   United States          FIGO grade 1                  under 50 %   \n",
            "C3L-00032   United States          FIGO grade 2                  under 50 %   \n",
            "\n",
            "Name       Histologic_type Treatment_naive Tumor_purity  \\\n",
            "Patient_ID                                                \n",
            "C3L-00006     Endometrioid             YES       Normal   \n",
            "C3L-00008     Endometrioid             YES       Normal   \n",
            "C3L-00032     Endometrioid             YES       Normal   \n",
            "\n",
            "Name       Path_Stage_Primary_Tumor-pT  ...   Age Diabetes   Race  \\\n",
            "Patient_ID                              ...                         \n",
            "C3L-00006               pT1a (FIGO IA)  ...  64.0       No  White   \n",
            "C3L-00008               pT1a (FIGO IA)  ...  58.0       No  White   \n",
            "C3L-00032               pT1a (FIGO IA)  ...  50.0      Yes  White   \n",
            "\n",
            "Name                     Ethnicity  Gender             Tumor_Site  \\\n",
            "Patient_ID                                                          \n",
            "C3L-00006   Not-Hispanic or Latino  Female   Anterior endometrium   \n",
            "C3L-00008   Not-Hispanic or Latino  Female  Posterior endometrium   \n",
            "C3L-00032   Not-Hispanic or Latino  Female         Other, specify   \n",
            "\n",
            "Name                          Tumor_Site_Other  Tumor_Focality Tumor_Size_cm  \\\n",
            "Patient_ID                                                                     \n",
            "C3L-00006                                  NaN        Unifocal           2.9   \n",
            "C3L-00008                                  NaN        Unifocal           3.5   \n",
            "C3L-00032   Anterior and Posterior endometrium        Unifocal           4.5   \n",
            "\n",
            "Name       Num_full_term_pregnancies  \n",
            "Patient_ID                            \n",
            "C3L-00006                          1  \n",
            "C3L-00008                          1  \n",
            "C3L-00032                  4 or more  \n",
            "\n",
            "[3 rows x 27 columns]\n"
          ]
        }
      ]
    },
    {
      "cell_type": "markdown",
      "metadata": {
        "id": "OoglFHiMG5vN"
      },
      "source": [
        "## PRACTICE PROBLEMS\n",
        "Using the clinical_dataframe variable, please answer the following three questions.\n",
        "3. What is the average tumor size? (rounded to 1 decimal)"
      ]
    },
    {
      "cell_type": "code",
      "metadata": {
        "id": "75bGs7fRHAtn",
        "colab": {
          "base_uri": "https://localhost:8080/"
        },
        "outputId": "5f998b96-a228-4ba2-f868-165e2b9323bb"
      },
      "source": [
        "###       Question 3         ###\n",
        "#  What is the average tumor size? (rounded to 1 decimal)\n",
        "#  You should derive your answer with coding, not any shortcuts.\n",
        "\n",
        "###      Your code here      ###\n",
        "clinical_dataframe.info()\n",
        "average_tumor_size = clinical_dataframe['Tumor_Size_cm'].mean()\n",
        "answer_3 = round(average_tumor_size,1)\n"
      ],
      "execution_count": null,
      "outputs": [
        {
          "output_type": "stream",
          "name": "stdout",
          "text": [
            "<class 'pandas.core.frame.DataFrame'>\n",
            "Index: 144 entries, C3L-00006 to NX9.N\n",
            "Data columns (total 27 columns):\n",
            " #   Column                         Non-Null Count  Dtype  \n",
            "---  ------                         --------------  -----  \n",
            " 0   Sample_ID                      144 non-null    object \n",
            " 1   Sample_Tumor_Normal            144 non-null    object \n",
            " 2   Proteomics_Tumor_Normal        144 non-null    object \n",
            " 3   Country                        95 non-null     object \n",
            " 4   Histologic_Grade_FIGO          83 non-null     object \n",
            " 5   Myometrial_invasion_Specify    95 non-null     object \n",
            " 6   Histologic_type                95 non-null     object \n",
            " 7   Treatment_naive                95 non-null     object \n",
            " 8   Tumor_purity                   95 non-null     object \n",
            " 9   Path_Stage_Primary_Tumor-pT    95 non-null     object \n",
            " 10  Path_Stage_Reg_Lymph_Nodes-pN  95 non-null     object \n",
            " 11  Clin_Stage_Dist_Mets-cM        95 non-null     object \n",
            " 12  Path_Stage_Dist_Mets-pM        95 non-null     object \n",
            " 13  tumor_Stage-Pathological       95 non-null     object \n",
            " 14  FIGO_stage                     95 non-null     object \n",
            " 15  LVSI                           93 non-null     float64\n",
            " 16  BMI                            95 non-null     float64\n",
            " 17  Age                            95 non-null     float64\n",
            " 18  Diabetes                       94 non-null     object \n",
            " 19  Race                           58 non-null     object \n",
            " 20  Ethnicity                      58 non-null     object \n",
            " 21  Gender                         95 non-null     object \n",
            " 22  Tumor_Site                     95 non-null     object \n",
            " 23  Tumor_Site_Other               70 non-null     object \n",
            " 24  Tumor_Focality                 95 non-null     object \n",
            " 25  Tumor_Size_cm                  94 non-null     float64\n",
            " 26  Num_full_term_pregnancies      95 non-null     object \n",
            "dtypes: float64(4), object(23)\n",
            "memory usage: 35.6+ KB\n"
          ]
        }
      ]
    },
    {
      "cell_type": "code",
      "metadata": {
        "id": "NuigeVS9x1zK",
        "colab": {
          "base_uri": "https://localhost:8080/"
        },
        "outputId": "a1df8f92-e1ed-428b-ae95-430b9c744dcc"
      },
      "source": [
        "###  Question 3: Submitting the answer   ###\n",
        "# To submit, your code above should have created a variable 'answer_3'.\n",
        "result = hw.submit(question = 3, answer = answer_3)\n",
        "print(result)"
      ],
      "execution_count": null,
      "outputs": [
        {
          "output_type": "stream",
          "name": "stdout",
          "text": [
            "True\n"
          ]
        }
      ]
    },
    {
      "cell_type": "code",
      "metadata": {
        "id": "uLUT9w-syPHE"
      },
      "source": [
        "### Question 3: Getting help ###\n",
        "hints = hw.getHint(question=3)\n",
        "print(hints)"
      ],
      "execution_count": null,
      "outputs": []
    },
    {
      "cell_type": "markdown",
      "metadata": {
        "id": "FCAXzdTy1Ijr"
      },
      "source": [
        "4. How many people are from the 'United States'?"
      ]
    },
    {
      "cell_type": "code",
      "metadata": {
        "id": "GY6h0pMQMYc8",
        "colab": {
          "base_uri": "https://localhost:8080/"
        },
        "outputId": "a94aa808-9a5f-4b87-8625-7c8f88e57b11"
      },
      "source": [
        "###       Question 4         ###\n",
        "#  How many people are from the 'United States'?\n",
        "#  You should derive your answer with coding, not any shortcuts.\n",
        "\n",
        "###      Your code here      ###\n",
        "country_count = clinical_dataframe['Country'].value_counts()\n",
        "answer_4 = country_count.loc['United States']\n",
        "print(country_count.loc['United States'])"
      ],
      "execution_count": null,
      "outputs": [
        {
          "output_type": "stream",
          "name": "stdout",
          "text": [
            "34\n"
          ]
        }
      ]
    },
    {
      "cell_type": "code",
      "metadata": {
        "id": "GAhGwBbIx2vc",
        "colab": {
          "base_uri": "https://localhost:8080/"
        },
        "outputId": "d96cb143-b10e-4624-90d3-01e4fb43629d"
      },
      "source": [
        "###  Question 4: Submitting the answer   ###\n",
        "# To submit, your code above should have created a variable 'answer_4'.\n",
        "result = hw.submit(question = 4, answer = answer_4)\n",
        "print(result)"
      ],
      "execution_count": null,
      "outputs": [
        {
          "output_type": "stream",
          "name": "stdout",
          "text": [
            "True\n"
          ]
        }
      ]
    },
    {
      "cell_type": "code",
      "metadata": {
        "id": "ycsZzveYyP_e"
      },
      "source": [
        "### Question 4: Getting help ###\n",
        "hints = hw.getHint(question=4)\n",
        "print(hints)"
      ],
      "execution_count": null,
      "outputs": []
    },
    {
      "cell_type": "markdown",
      "metadata": {
        "id": "8G2isH8V1UHP"
      },
      "source": [
        "5. How many people are diabetic?"
      ]
    },
    {
      "cell_type": "code",
      "metadata": {
        "id": "3Gb34W3JMYk2"
      },
      "source": [
        "###       Question 5         ###\n",
        "#  How many people are diabetic?\n",
        "#  You should derive your answer with coding, not any shortcuts.\n",
        "\n",
        "###      Your code here      ###\n",
        "answer_5 = clinical_dataframe['Diabetes'].value_counts().loc['Yes']"
      ],
      "execution_count": null,
      "outputs": []
    },
    {
      "cell_type": "code",
      "metadata": {
        "id": "W18uJRNux35B",
        "colab": {
          "base_uri": "https://localhost:8080/"
        },
        "outputId": "937c2ff4-50d1-4a69-ce6f-0bc09a18f6e9"
      },
      "source": [
        "###  Question 5: Submitting the answer   ###\n",
        "# To submit, your code above should have created a variable 'answer_5'.\n",
        "result = hw.submit(question = 5, answer = answer_5)\n",
        "print(result)"
      ],
      "execution_count": null,
      "outputs": [
        {
          "output_type": "stream",
          "name": "stdout",
          "text": [
            "True\n"
          ]
        }
      ]
    },
    {
      "cell_type": "code",
      "metadata": {
        "id": "HjIDA6VOyQsD"
      },
      "source": [
        "### Question 5: Getting help ###\n",
        "hints = hw.getHint(question=5)\n",
        "print(hints)"
      ],
      "execution_count": null,
      "outputs": []
    },
    {
      "cell_type": "markdown",
      "metadata": {
        "id": "oXRaEZcbq7FJ"
      },
      "source": [
        "# Part 3 - Some complex selections\n",
        "In part 2 we learned how to select out whole rows or whole columns. Now we'll learn how to select out parts of the dataframe that meet a specific condition. For example, what if we wanted to create a dataframe of patients who have 'FIGO grade 2' tumors or only the patients who are over 70 years old. This section shows how to create complex select statements that have built in conditional tests.\n",
        "\n",
        "In the code you will see conditional operators like '==' or '<'. The selection looks like:\n",
        "\n",
        "`clinical_dataframe.loc[ CONDITION_HERE ] #give me the rows that pass this condition`\n"
      ]
    },
    {
      "cell_type": "code",
      "source": [
        "clinical_dataframe.info()"
      ],
      "metadata": {
        "colab": {
          "base_uri": "https://localhost:8080/"
        },
        "id": "rqsVsQK1ShCL",
        "outputId": "3a8b5c6e-3beb-4a3d-8295-30d0e586cc18"
      },
      "execution_count": null,
      "outputs": [
        {
          "output_type": "stream",
          "name": "stdout",
          "text": [
            "<class 'pandas.core.frame.DataFrame'>\n",
            "Index: 144 entries, C3L-00006 to NX9.N\n",
            "Data columns (total 27 columns):\n",
            " #   Column                         Non-Null Count  Dtype  \n",
            "---  ------                         --------------  -----  \n",
            " 0   Sample_ID                      144 non-null    object \n",
            " 1   Sample_Tumor_Normal            144 non-null    object \n",
            " 2   Proteomics_Tumor_Normal        144 non-null    object \n",
            " 3   Country                        95 non-null     object \n",
            " 4   Histologic_Grade_FIGO          83 non-null     object \n",
            " 5   Myometrial_invasion_Specify    95 non-null     object \n",
            " 6   Histologic_type                95 non-null     object \n",
            " 7   Treatment_naive                95 non-null     object \n",
            " 8   Tumor_purity                   95 non-null     object \n",
            " 9   Path_Stage_Primary_Tumor-pT    95 non-null     object \n",
            " 10  Path_Stage_Reg_Lymph_Nodes-pN  95 non-null     object \n",
            " 11  Clin_Stage_Dist_Mets-cM        95 non-null     object \n",
            " 12  Path_Stage_Dist_Mets-pM        95 non-null     object \n",
            " 13  tumor_Stage-Pathological       95 non-null     object \n",
            " 14  FIGO_stage                     95 non-null     object \n",
            " 15  LVSI                           93 non-null     float64\n",
            " 16  BMI                            95 non-null     float64\n",
            " 17  Age                            95 non-null     float64\n",
            " 18  Diabetes                       94 non-null     object \n",
            " 19  Race                           58 non-null     object \n",
            " 20  Ethnicity                      58 non-null     object \n",
            " 21  Gender                         95 non-null     object \n",
            " 22  Tumor_Site                     95 non-null     object \n",
            " 23  Tumor_Site_Other               70 non-null     object \n",
            " 24  Tumor_Focality                 95 non-null     object \n",
            " 25  Tumor_Size_cm                  94 non-null     float64\n",
            " 26  Num_full_term_pregnancies      95 non-null     object \n",
            "dtypes: float64(4), object(23)\n",
            "memory usage: 35.6+ KB\n"
          ]
        }
      ]
    },
    {
      "cell_type": "code",
      "metadata": {
        "id": "v814YARDrJX5",
        "colab": {
          "base_uri": "https://localhost:8080/"
        },
        "outputId": "91adbe61-0c9c-426a-ccd7-6ef70c4f755f"
      },
      "source": [
        "grade2tumors = clinical_dataframe.loc[clinical_dataframe['Histologic_Grade_FIGO'] == 'FIGO grade 2']\n",
        "grade2tumors.head()\n",
        "grade2tumors.info()"
      ],
      "execution_count": null,
      "outputs": [
        {
          "output_type": "stream",
          "name": "stdout",
          "text": [
            "<class 'pandas.core.frame.DataFrame'>\n",
            "Index: 38 entries, C3L-00032 to C3N-01537\n",
            "Data columns (total 27 columns):\n",
            " #   Column                         Non-Null Count  Dtype  \n",
            "---  ------                         --------------  -----  \n",
            " 0   Sample_ID                      38 non-null     object \n",
            " 1   Sample_Tumor_Normal            38 non-null     object \n",
            " 2   Proteomics_Tumor_Normal        38 non-null     object \n",
            " 3   Country                        38 non-null     object \n",
            " 4   Histologic_Grade_FIGO          38 non-null     object \n",
            " 5   Myometrial_invasion_Specify    38 non-null     object \n",
            " 6   Histologic_type                38 non-null     object \n",
            " 7   Treatment_naive                38 non-null     object \n",
            " 8   Tumor_purity                   38 non-null     object \n",
            " 9   Path_Stage_Primary_Tumor-pT    38 non-null     object \n",
            " 10  Path_Stage_Reg_Lymph_Nodes-pN  38 non-null     object \n",
            " 11  Clin_Stage_Dist_Mets-cM        38 non-null     object \n",
            " 12  Path_Stage_Dist_Mets-pM        38 non-null     object \n",
            " 13  tumor_Stage-Pathological       38 non-null     object \n",
            " 14  FIGO_stage                     38 non-null     object \n",
            " 15  LVSI                           37 non-null     float64\n",
            " 16  BMI                            38 non-null     float64\n",
            " 17  Age                            38 non-null     float64\n",
            " 18  Diabetes                       38 non-null     object \n",
            " 19  Race                           20 non-null     object \n",
            " 20  Ethnicity                      20 non-null     object \n",
            " 21  Gender                         38 non-null     object \n",
            " 22  Tumor_Site                     38 non-null     object \n",
            " 23  Tumor_Site_Other               31 non-null     object \n",
            " 24  Tumor_Focality                 38 non-null     object \n",
            " 25  Tumor_Size_cm                  37 non-null     float64\n",
            " 26  Num_full_term_pregnancies      38 non-null     object \n",
            "dtypes: float64(4), object(23)\n",
            "memory usage: 8.3+ KB\n"
          ]
        }
      ]
    },
    {
      "cell_type": "code",
      "metadata": {
        "id": "Sa84kOHMtU4b",
        "colab": {
          "base_uri": "https://localhost:8080/"
        },
        "outputId": "f32fa6bc-4c83-4ff9-a99c-ab80fe4b32cc"
      },
      "source": [
        "patientsOver70 = clinical_dataframe.loc[clinical_dataframe['Age'] > 70]\n",
        "patientsOver70.head()\n",
        "patientsOver70.info()"
      ],
      "execution_count": null,
      "outputs": [
        {
          "output_type": "stream",
          "name": "stdout",
          "text": [
            "<class 'pandas.core.frame.DataFrame'>\n",
            "Index: 21 entries, C3L-00090 to C3N-01802\n",
            "Data columns (total 27 columns):\n",
            " #   Column                         Non-Null Count  Dtype  \n",
            "---  ------                         --------------  -----  \n",
            " 0   Sample_ID                      21 non-null     object \n",
            " 1   Sample_Tumor_Normal            21 non-null     object \n",
            " 2   Proteomics_Tumor_Normal        21 non-null     object \n",
            " 3   Country                        21 non-null     object \n",
            " 4   Histologic_Grade_FIGO          17 non-null     object \n",
            " 5   Myometrial_invasion_Specify    21 non-null     object \n",
            " 6   Histologic_type                21 non-null     object \n",
            " 7   Treatment_naive                21 non-null     object \n",
            " 8   Tumor_purity                   21 non-null     object \n",
            " 9   Path_Stage_Primary_Tumor-pT    21 non-null     object \n",
            " 10  Path_Stage_Reg_Lymph_Nodes-pN  21 non-null     object \n",
            " 11  Clin_Stage_Dist_Mets-cM        21 non-null     object \n",
            " 12  Path_Stage_Dist_Mets-pM        21 non-null     object \n",
            " 13  tumor_Stage-Pathological       21 non-null     object \n",
            " 14  FIGO_stage                     21 non-null     object \n",
            " 15  LVSI                           20 non-null     float64\n",
            " 16  BMI                            21 non-null     float64\n",
            " 17  Age                            21 non-null     float64\n",
            " 18  Diabetes                       21 non-null     object \n",
            " 19  Race                           15 non-null     object \n",
            " 20  Ethnicity                      15 non-null     object \n",
            " 21  Gender                         21 non-null     object \n",
            " 22  Tumor_Site                     21 non-null     object \n",
            " 23  Tumor_Site_Other               14 non-null     object \n",
            " 24  Tumor_Focality                 21 non-null     object \n",
            " 25  Tumor_Size_cm                  21 non-null     float64\n",
            " 26  Num_full_term_pregnancies      21 non-null     object \n",
            "dtypes: float64(4), object(23)\n",
            "memory usage: 4.6+ KB\n"
          ]
        }
      ]
    },
    {
      "cell_type": "markdown",
      "metadata": {
        "id": "4W-q_I2otp-_"
      },
      "source": [
        "Now we combine these two selections to make a more complex selection.\n",
        "\n",
        "The selection looks like:\n",
        "\n",
        "`clinical_dataframe.loc[(CONDITION_1_HERE) & (CONDITION_2_HERE)]`"
      ]
    },
    {
      "cell_type": "code",
      "metadata": {
        "id": "BfKuEJoAtpJB",
        "colab": {
          "base_uri": "https://localhost:8080/"
        },
        "outputId": "7ca60bcb-210d-4718-db7a-223030486007"
      },
      "source": [
        "complex_select_df = clinical_dataframe.loc[(clinical_dataframe['Age'] > 70) & (clinical_dataframe['Histologic_Grade_FIGO'] == 'FIGO grade 2')]\n",
        "complex_select_df #We didn't do .head() so that you can now see the whole table.\n",
        "complex_select_df.info()"
      ],
      "execution_count": null,
      "outputs": [
        {
          "output_type": "stream",
          "name": "stdout",
          "text": [
            "<class 'pandas.core.frame.DataFrame'>\n",
            "Index: 8 entries, C3L-00090 to C3N-01537\n",
            "Data columns (total 27 columns):\n",
            " #   Column                         Non-Null Count  Dtype  \n",
            "---  ------                         --------------  -----  \n",
            " 0   Sample_ID                      8 non-null      object \n",
            " 1   Sample_Tumor_Normal            8 non-null      object \n",
            " 2   Proteomics_Tumor_Normal        8 non-null      object \n",
            " 3   Country                        8 non-null      object \n",
            " 4   Histologic_Grade_FIGO          8 non-null      object \n",
            " 5   Myometrial_invasion_Specify    8 non-null      object \n",
            " 6   Histologic_type                8 non-null      object \n",
            " 7   Treatment_naive                8 non-null      object \n",
            " 8   Tumor_purity                   8 non-null      object \n",
            " 9   Path_Stage_Primary_Tumor-pT    8 non-null      object \n",
            " 10  Path_Stage_Reg_Lymph_Nodes-pN  8 non-null      object \n",
            " 11  Clin_Stage_Dist_Mets-cM        8 non-null      object \n",
            " 12  Path_Stage_Dist_Mets-pM        8 non-null      object \n",
            " 13  tumor_Stage-Pathological       8 non-null      object \n",
            " 14  FIGO_stage                     8 non-null      object \n",
            " 15  LVSI                           7 non-null      float64\n",
            " 16  BMI                            8 non-null      float64\n",
            " 17  Age                            8 non-null      float64\n",
            " 18  Diabetes                       8 non-null      object \n",
            " 19  Race                           6 non-null      object \n",
            " 20  Ethnicity                      6 non-null      object \n",
            " 21  Gender                         8 non-null      object \n",
            " 22  Tumor_Site                     8 non-null      object \n",
            " 23  Tumor_Site_Other               6 non-null      object \n",
            " 24  Tumor_Focality                 8 non-null      object \n",
            " 25  Tumor_Size_cm                  8 non-null      float64\n",
            " 26  Num_full_term_pregnancies      8 non-null      object \n",
            "dtypes: float64(4), object(23)\n",
            "memory usage: 1.8+ KB\n"
          ]
        }
      ]
    },
    {
      "cell_type": "markdown",
      "metadata": {
        "id": "q7WFW9L32H29"
      },
      "source": [
        "##PRACTICE PROBLEMS\n",
        "\n",
        "6. How many tumors from the Ukraine are from childless women over 50?"
      ]
    },
    {
      "cell_type": "code",
      "metadata": {
        "id": "8QVefL2Pt_4d",
        "colab": {
          "base_uri": "https://localhost:8080/"
        },
        "outputId": "702119ba-3e2a-4037-8364-c2d1eb91d858"
      },
      "source": [
        "###       Question 6         ###\n",
        "#  How many tumors from the Ukraine are from childless women over 50?\n",
        "#  You should derive your answer with coding, not any shortcuts.\n",
        "\n",
        "###      Your code here      ###\n",
        "df = clinical_dataframe.loc[(clinical_dataframe['Age'] > 50) & (clinical_dataframe['Country'] == 'Ukraine') & (clinical_dataframe['Num_full_term_pregnancies'] == 'None')]\n",
        "df.info()\n",
        "print(len(df['Sample_ID']))\n",
        "answer_6 = len(df['Sample_ID'])"
      ],
      "execution_count": null,
      "outputs": [
        {
          "output_type": "stream",
          "name": "stdout",
          "text": [
            "<class 'pandas.core.frame.DataFrame'>\n",
            "Index: 3 entries, C3N-00335 to C3N-01217\n",
            "Data columns (total 27 columns):\n",
            " #   Column                         Non-Null Count  Dtype  \n",
            "---  ------                         --------------  -----  \n",
            " 0   Sample_ID                      3 non-null      object \n",
            " 1   Sample_Tumor_Normal            3 non-null      object \n",
            " 2   Proteomics_Tumor_Normal        3 non-null      object \n",
            " 3   Country                        3 non-null      object \n",
            " 4   Histologic_Grade_FIGO          3 non-null      object \n",
            " 5   Myometrial_invasion_Specify    3 non-null      object \n",
            " 6   Histologic_type                3 non-null      object \n",
            " 7   Treatment_naive                3 non-null      object \n",
            " 8   Tumor_purity                   3 non-null      object \n",
            " 9   Path_Stage_Primary_Tumor-pT    3 non-null      object \n",
            " 10  Path_Stage_Reg_Lymph_Nodes-pN  3 non-null      object \n",
            " 11  Clin_Stage_Dist_Mets-cM        3 non-null      object \n",
            " 12  Path_Stage_Dist_Mets-pM        3 non-null      object \n",
            " 13  tumor_Stage-Pathological       3 non-null      object \n",
            " 14  FIGO_stage                     3 non-null      object \n",
            " 15  LVSI                           3 non-null      float64\n",
            " 16  BMI                            3 non-null      float64\n",
            " 17  Age                            3 non-null      float64\n",
            " 18  Diabetes                       3 non-null      object \n",
            " 19  Race                           0 non-null      object \n",
            " 20  Ethnicity                      0 non-null      object \n",
            " 21  Gender                         3 non-null      object \n",
            " 22  Tumor_Site                     3 non-null      object \n",
            " 23  Tumor_Site_Other               3 non-null      object \n",
            " 24  Tumor_Focality                 3 non-null      object \n",
            " 25  Tumor_Size_cm                  3 non-null      float64\n",
            " 26  Num_full_term_pregnancies      3 non-null      object \n",
            "dtypes: float64(4), object(23)\n",
            "memory usage: 672.0+ bytes\n",
            "3\n"
          ]
        }
      ]
    },
    {
      "cell_type": "code",
      "metadata": {
        "id": "NqUf5W72x6VJ",
        "colab": {
          "base_uri": "https://localhost:8080/"
        },
        "outputId": "6868426a-cf63-4e9d-c42a-e59206e8d728"
      },
      "source": [
        "###  Question 6: Submitting the answer   ###\n",
        "# To submit, your code above should have created a variable 'answer_6'.\n",
        "result = hw.submit(question = 6, answer = answer_6)\n",
        "print(result)"
      ],
      "execution_count": null,
      "outputs": [
        {
          "output_type": "stream",
          "name": "stdout",
          "text": [
            "True\n"
          ]
        }
      ]
    },
    {
      "cell_type": "code",
      "metadata": {
        "id": "OLhzUxxaySMo"
      },
      "source": [
        "### Question 6: Getting help ###\n",
        "hints = hw.getHint(question=6)\n",
        "print(hints)"
      ],
      "execution_count": null,
      "outputs": []
    },
    {
      "cell_type": "markdown",
      "metadata": {
        "id": "sUkLDV2u1fbz"
      },
      "source": [
        "7. Is being obese (BMI > 35) more common in stage II or IV cancer?"
      ]
    },
    {
      "cell_type": "code",
      "metadata": {
        "id": "e8mFK5PB2EdE",
        "colab": {
          "base_uri": "https://localhost:8080/"
        },
        "outputId": "83207d56-c744-4c85-cb52-653fc9c6e092"
      },
      "source": [
        "###       Question 7         ###\n",
        "#  Is being obese (BMI > 35) more common in stage II or IV cancer?\n",
        "#  Your answer should either be \"Stage II\" or \"Stage IV\"\n",
        "#  You should derive your answer with coding, not any shortcuts.\n",
        "\n",
        "###      Your code here      ###\n",
        "# Hint: Use 'tumor_Stage-Pathological'\n",
        "df = clinical_dataframe[['Sample_ID','BMI','tumor_Stage-Pathological']]\n",
        "df1 = df.loc[(df['BMI'] > 35)]\n",
        "df2 = df1['tumor_Stage-Pathological'].value_counts()\n",
        "print(df2)\n",
        "\n",
        "answer_7 = \"\"\n",
        "\n",
        "if df2['Stage II'] > df2['Stage IV']:\n",
        "  answer_7 += \"Stage II\"\n",
        "else:\n",
        "  answer_7 += \"Stage IV\"\n",
        "\n",
        "print(answer_7)"
      ],
      "execution_count": null,
      "outputs": [
        {
          "output_type": "stream",
          "name": "stdout",
          "text": [
            "Stage I      26\n",
            "Stage II      6\n",
            "Stage III     4\n",
            "Stage IV      1\n",
            "Name: tumor_Stage-Pathological, dtype: int64\n",
            "Stage II\n"
          ]
        }
      ]
    },
    {
      "cell_type": "code",
      "metadata": {
        "id": "kThtguMZx7AA",
        "colab": {
          "base_uri": "https://localhost:8080/"
        },
        "outputId": "3b0a4a07-0493-4d29-f41d-5c57dd8ce607"
      },
      "source": [
        "###  Question 7: Submitting the answer   ###\n",
        "# To submit, your code above should have created a variable 'answer_7'.\n",
        "result = hw.submit(question = 7, answer = answer_7)\n",
        "print(result)"
      ],
      "execution_count": null,
      "outputs": [
        {
          "output_type": "stream",
          "name": "stdout",
          "text": [
            "True\n"
          ]
        }
      ]
    },
    {
      "cell_type": "code",
      "metadata": {
        "id": "Myz47jIRySxb"
      },
      "source": [
        "### Question 7: Getting help ###\n",
        "hints = hw.getHint(question=7)\n",
        "print(hints)"
      ],
      "execution_count": null,
      "outputs": []
    },
    {
      "cell_type": "markdown",
      "metadata": {
        "id": "W-dcBsTS1ixh"
      },
      "source": [
        "8. What is the average tumor size for individuals from each country?"
      ]
    },
    {
      "cell_type": "code",
      "metadata": {
        "id": "j72AO7_gHS2l",
        "colab": {
          "base_uri": "https://localhost:8080/"
        },
        "outputId": "ed9eb33a-c517-4999-fd70-7de1c7332d20"
      },
      "source": [
        "###       Question 8         ###\n",
        "#  What is the average tumor size for individuals from each country? (Rounded to 1 decimal)\n",
        "#  Do not report values for non-countries.\n",
        "#  Your answer should be a string with the \"country: average\" separated by a comma in alphabetical order.\n",
        "#  Example: Poland: 5.7, United States: 2.6,...\n",
        "#  You should derive your answer with coding, not any shortcuts.\n",
        "\n",
        "###      Your code here      ###\n",
        "df = clinical_dataframe[['Country','Tumor_Size_cm']]\n",
        "df = df.dropna()\n",
        "print(df)\n",
        "\n",
        "country_average = {}\n",
        "\n",
        "for country in df['Country']:\n",
        "  if country in [key for key in country_average] or country == \"Other_specify\":\n",
        "    continue\n",
        "  else:\n",
        "    country_average[country] = 0\n",
        "\n",
        "for country in country_average.keys():\n",
        "  df3 = df.loc[(df['Country'] == country)]\n",
        "  # print(df3)\n",
        "  avg = df3['Tumor_Size_cm'].mean()\n",
        "  # print(avg)\n",
        "  country_average[country] = round(avg,1)\n",
        "\n",
        "\n",
        "sorted_country_average = sorted(country_average.keys())\n",
        "print(country_average)\n",
        "print(sorted_country_average)\n",
        "\n",
        "answer_8 = \"\"\n",
        "for key in sorted_country_average:\n",
        "  answer_8 += f\"{key}: {country_average[key]}, \"\n",
        "\n",
        "answer_8 = answer_8.rstrip(', ')\n",
        "\n",
        "print(answer_8.rstrip(', '))\n",
        "\n"
      ],
      "execution_count": null,
      "outputs": [
        {
          "output_type": "stream",
          "name": "stdout",
          "text": [
            "Name              Country  Tumor_Size_cm\n",
            "Patient_ID                              \n",
            "C3L-00006   United States            2.9\n",
            "C3L-00008   United States            3.5\n",
            "C3L-00032   United States            4.5\n",
            "C3L-00090   United States            3.5\n",
            "C3L-00098   United States            6.0\n",
            "...                   ...            ...\n",
            "C3N-01520         Ukraine            1.0\n",
            "C3N-01521         Ukraine            4.2\n",
            "C3N-01537         Ukraine            1.5\n",
            "C3N-01802   United States            3.8\n",
            "C3N-01825         Ukraine            5.0\n",
            "\n",
            "[94 rows x 2 columns]\n",
            "{'United States': 4.6, 'Ukraine': 2.3, 'Poland': 5.5}\n",
            "['Poland', 'Ukraine', 'United States']\n",
            "Poland: 5.5, Ukraine: 2.3, United States: 4.6\n"
          ]
        }
      ]
    },
    {
      "cell_type": "code",
      "metadata": {
        "id": "JJvIIznox7kD",
        "colab": {
          "base_uri": "https://localhost:8080/"
        },
        "outputId": "1cf4d473-3c03-423c-caa8-1b186cbbad69"
      },
      "source": [
        "###  Question 8: Submitting the answer   ###\n",
        "# To submit, your code above should have created a variable 'answer_8'.\n",
        "result = hw.submit(question = 8, answer = answer_8)\n",
        "print(result)"
      ],
      "execution_count": null,
      "outputs": [
        {
          "output_type": "stream",
          "name": "stdout",
          "text": [
            "True\n"
          ]
        }
      ]
    },
    {
      "cell_type": "code",
      "metadata": {
        "id": "nSHz1MwFyTYl"
      },
      "source": [
        "### Question 8: Getting help ###\n",
        "hints = hw.getHint(question=8)\n",
        "print(hints)"
      ],
      "execution_count": null,
      "outputs": []
    },
    {
      "cell_type": "markdown",
      "metadata": {
        "id": "mtoHfj4vSY30"
      },
      "source": [
        "# Part 4. Turn it in\n",
        "**Congrats!**\n",
        "\n",
        "Now that you have finished the assignment, use the endSession command to report your score. Once you have completed the notebook, please share it with your instructor."
      ]
    },
    {
      "cell_type": "code",
      "metadata": {
        "id": "PCLzpmpPSaZR",
        "colab": {
          "base_uri": "https://localhost:8080/"
        },
        "outputId": "83526ae5-dc93-4e67-b639-699c6fe39a57"
      },
      "source": [
        "hw.endSession()"
      ],
      "execution_count": null,
      "outputs": [
        {
          "output_type": "stream",
          "name": "stdout",
          "text": [
            "\n",
            "                      SESSION SUMMARY                       \n",
            "------------------------------------------------------------\n",
            "Student ID:                                           s15211\n",
            "Homework:                                         bio462_hw1\n",
            "------------------------------------------------------------\n",
            "  Question  |  Correct  |  Attempts  |        Answer        \n",
            "     1      |    Yes    |     1      |   12\n",
            "     2      |    Yes    |     1      |   144\n",
            "     3      |    Yes    |     2      |   3.7\n",
            "     4      |    Yes    |     1      |   34\n",
            "     5      |    Yes    |     1      |   26\n",
            "     6      |    Yes    |     4      |   3\n",
            "     7      |    Yes    |     1      |   Stage II\n",
            "     8      |    Yes    |     3      |   Poland: 5.5, Ukraine: 2.3, United States: 4.6\n",
            "------------------------------------------------------------\n",
            "Total Score: 8/8 = 100.00%\n"
          ]
        }
      ]
    }
  ]
}